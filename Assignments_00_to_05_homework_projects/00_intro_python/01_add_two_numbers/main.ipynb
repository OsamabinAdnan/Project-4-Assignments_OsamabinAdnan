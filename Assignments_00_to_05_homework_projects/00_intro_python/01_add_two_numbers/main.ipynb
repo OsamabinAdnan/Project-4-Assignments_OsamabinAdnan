{
 "cells": [
  {
   "cell_type": "markdown",
   "metadata": {},
   "source": [
    "**Problem Statement**\n",
    "\n",
    "Write a Python program that takes two integer inputs from the user and calculates their sum. The program should perform the following tasks:\n",
    "1. Prompt the user to enter the first number.\n",
    "2. Read the input and convert it to an integer.\n",
    "3. Prompt the user to enter the second number.\n",
    "4. Read the input and convert it to an integer.\n",
    "5. Calculate the sum of the two numbers.\n",
    "6. Print the total sum with an appropriate message."
   ]
  },
  {
   "cell_type": "code",
   "execution_count": 4,
   "metadata": {},
   "outputs": [
    {
     "name": "stdout",
     "output_type": "stream",
     "text": [
      "\n",
      "The program add two numbers\n",
      "\n",
      "The sum of 50 and 70 is 120\n"
     ]
    }
   ],
   "source": [
    "def main():\n",
    "    \"\"\"\n",
    "    This function takes two integers as input from the user and calculates the sum.\n",
    "    \"\"\"\n",
    "    print(\"\\nThe program add two numbers\\n\")\n",
    "    num1 = int(input(\"Enter the first number: \"))\n",
    "    num2 = int(input(\"Enter the second number: \"))\n",
    "    sum = num1 + num2\n",
    "    print(f\"The sum of {num1} and {num2} is {sum}\")\n",
    "\n",
    "if __name__ == \"__main__\":\n",
    "    \"\"\"\n",
    "    This is the entry point of the program.\n",
    "    \"\"\"\n",
    "    main()"
   ]
  }
 ],
 "metadata": {
  "kernelspec": {
   "display_name": "Python 3",
   "language": "python",
   "name": "python3"
  },
  "language_info": {
   "codemirror_mode": {
    "name": "ipython",
    "version": 3
   },
   "file_extension": ".py",
   "mimetype": "text/x-python",
   "name": "python",
   "nbconvert_exporter": "python",
   "pygments_lexer": "ipython3",
   "version": "3.13.2"
  }
 },
 "nbformat": 4,
 "nbformat_minor": 2
}
