{
 "cells": [
  {
   "cell_type": "markdown",
   "metadata": {},
   "source": [
    "**Problem Statement**\n",
    "\n",
    "In this program we show an example of using dictionaries to keep track of information in a phonebook."
   ]
  },
  {
   "cell_type": "code",
   "execution_count": null,
   "metadata": {},
   "outputs": [
    {
     "name": "stdout",
     "output_type": "stream",
     "text": [
      "Osama -> 03001234567\n",
      "Ali -> 03011234567\n",
      "Ahmed -> 03021234567\n",
      "03001234567\n"
     ]
    }
   ],
   "source": [
    "def read_phone_numbers():\n",
    "    \"\"\"\n",
    "    Ask the user for names/numbers to story in a phonebook (dictionary).\n",
    "    Returns the phonebook.\n",
    "    \"\"\"\n",
    "    # Initialize empty dictionary to store name:number pairs\n",
    "    phonebook = {}                   \n",
    "\n",
    "    while True:\n",
    "        # Get name input from user\n",
    "        name = input(\"Name: \")\n",
    "        # Exit loop if user enters empty string\n",
    "        if name == \"\":\n",
    "            break\n",
    "        # Get phone number for this name\n",
    "        number = input(\"Number: \")\n",
    "        # Add name:number pair to phonebook dictionary\n",
    "        phonebook[name] = number\n",
    "\n",
    "    return phonebook\n",
    "\n",
    "\n",
    "def print_phonebook(phonebook):\n",
    "    \"\"\"\n",
    "    Prints out all the names/numbers in the phonebook.\n",
    "    \"\"\"\n",
    "    # Iterate through each name (key) in the phonebook\n",
    "    for name in phonebook:\n",
    "        # Print name and its associated number in format: name -> number\n",
    "        print(str(name) + \" -> \" + str(phonebook[name]))\n",
    "\n",
    "\n",
    "def lookup_numbers(phonebook):\n",
    "    \"\"\"\n",
    "    Allow the user to lookup phone numbers in the phonebook\n",
    "    by looking up the number associated with a name.\n",
    "    \"\"\"\n",
    "    while True:\n",
    "        # Get name to search for\n",
    "        name = input(\"Enter name to lookup: \")\n",
    "        # Exit loop if user enters empty string\n",
    "        if name == \"\":\n",
    "            break\n",
    "        # Check if name exists in phonebook\n",
    "        if name not in phonebook:\n",
    "            print(name + \" is not in the phonebook\")\n",
    "        else:\n",
    "            # Print the phone number associated with the name\n",
    "            print(phonebook[name])\n",
    "\n",
    "\n",
    "def main():\n",
    "    # Step 1: Get names and numbers from user\n",
    "    phonebook = read_phone_numbers()\n",
    "    # Step 2: Display all entries in phonebook\n",
    "    print_phonebook(phonebook)\n",
    "    # Step 3: Allow user to look up numbers by name\n",
    "    lookup_numbers(phonebook)\n",
    "\n",
    "\n",
    "# Python boilerplate to ensure main() only runs if this file is run directly\n",
    "if __name__ == '__main__':\n",
    "    main()"
   ]
  }
 ],
 "metadata": {
  "kernelspec": {
   "display_name": "Python 3",
   "language": "python",
   "name": "python3"
  },
  "language_info": {
   "codemirror_mode": {
    "name": "ipython",
    "version": 3
   },
   "file_extension": ".py",
   "mimetype": "text/x-python",
   "name": "python",
   "nbconvert_exporter": "python",
   "pygments_lexer": "ipython3",
   "version": "3.13.2"
  }
 },
 "nbformat": 4,
 "nbformat_minor": 2
}
