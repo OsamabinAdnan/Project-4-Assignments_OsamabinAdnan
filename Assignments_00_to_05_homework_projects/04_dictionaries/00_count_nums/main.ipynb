{
 "cells": [
  {
   "cell_type": "markdown",
   "metadata": {},
   "source": [
    "**Problem Statement**\n",
    "\n",
    "This program counts the number of times each number appears in a list. It uses a dictionary to keep track of the information.\n",
    "\n",
    "An example run of the program looks like this (user input is in blue):\n",
    "\n",
    "Enter a number: 3 Enter a number: 4 Enter a number: 3 Enter a number: 6 Enter a number: 4 Enter a number: 3 Enter a number: 12 Enter a number: 3 appears 3 times. 4 appears 2 times. 6 appears 1 times. 12 appears 1 times."
   ]
  },
  {
   "cell_type": "code",
   "execution_count": 4,
   "metadata": {},
   "outputs": [
    {
     "name": "stdout",
     "output_type": "stream",
     "text": [
      "1 appears 4 times.\n",
      "2 appears 1 times.\n",
      "3 appears 2 times.\n",
      "4 appears 4 times.\n",
      "5 appears 4 times.\n",
      "6 appears 5 times.\n",
      "7 appears 3 times.\n",
      "8 appears 1 times.\n",
      "9 appears 2 times.\n",
      "0 appears 1 times.\n"
     ]
    }
   ],
   "source": [
    "def get_user_numbers():\n",
    "    \"\"\"\n",
    "    Create an empty list.\n",
    "    Ask the user to input numbers and store them in a list. \n",
    "    Once they enter a blank line, break out of the loop and return the list.\n",
    "    \"\"\"\n",
    "    # Initialize empty list to store user's numbers\n",
    "    user_numbers = []\n",
    "    \n",
    "    while True:\n",
    "        # Continuously prompt user for input until they enter a blank line\n",
    "        user_input = input(\"Enter a number: \")\n",
    "        \n",
    "        # Exit condition: if user enters nothing (empty string)\n",
    "        if user_input == \"\":\n",
    "            break\n",
    "        \n",
    "        # Convert string input to integer and add to list\n",
    "        # Note: This could raise ValueError if input is not a valid integer\n",
    "        num = int(user_input)\n",
    "        user_numbers.append(num)\n",
    "    \n",
    "    return user_numbers\n",
    "\n",
    "def count_nums(num_lst):\n",
    "    \"\"\"\n",
    "    Create an empty dictionary.\n",
    "    Loop over the list of numbers. \n",
    "    If the number is not in the dictionary, add it as a key with a value of 1.\n",
    "    If the number is in the dictionary, increment its value by 1.\n",
    "    \"\"\"\n",
    "    # Initialize empty dictionary to store number counts\n",
    "    num_dict = {}\n",
    "    \n",
    "    # Iterate through each number in the input list\n",
    "    for num in num_lst:\n",
    "        # If number is new, add it to dictionary with count 1\n",
    "        if num not in num_dict:\n",
    "            num_dict[num] = 1\n",
    "        # If number already exists, increment its count\n",
    "        else:\n",
    "            num_dict[num] += 1\n",
    "    \n",
    "    return num_dict\n",
    "\n",
    "def print_counts(num_dict):\n",
    "    \"\"\"\n",
    "    Loop over the dictionary and print out each key and its value.\n",
    "    \"\"\"\n",
    "    # Iterate through each number (key) in the dictionary\n",
    "    for num in num_dict:\n",
    "        # Print formatted string showing number and its frequency\n",
    "        print(str(num) + \" appears \" + str(num_dict[num]) + \" times.\")\n",
    "\n",
    "def main():\n",
    "    \"\"\"\n",
    "    Ask the user to input numbers and store them in a list. Once they enter a blank line,\n",
    "    print out the number of times each number appeared in the list.\n",
    "    \"\"\"\n",
    "    # Step 1: Get list of numbers from user\n",
    "    user_numbers = get_user_numbers()\n",
    "    # Step 2: Count frequency of each number\n",
    "    num_dict = count_nums(user_numbers)\n",
    "    # Step 3: Display the results\n",
    "    print_counts(num_dict)\n",
    "\n",
    "# Python boilerplate to ensure main() only runs if this file is run directly\n",
    "if __name__ == '__main__':\n",
    "    main()"
   ]
  }
 ],
 "metadata": {
  "kernelspec": {
   "display_name": "Python 3",
   "language": "python",
   "name": "python3"
  },
  "language_info": {
   "codemirror_mode": {
    "name": "ipython",
    "version": 3
   },
   "file_extension": ".py",
   "mimetype": "text/x-python",
   "name": "python",
   "nbconvert_exporter": "python",
   "pygments_lexer": "ipython3",
   "version": "3.13.2"
  }
 },
 "nbformat": 4,
 "nbformat_minor": 2
}
