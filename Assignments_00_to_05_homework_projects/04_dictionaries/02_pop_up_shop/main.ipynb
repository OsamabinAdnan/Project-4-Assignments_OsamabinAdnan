{
 "cells": [
  {
   "cell_type": "markdown",
   "metadata": {},
   "source": [
    "**Problem Statement**\n",
    "\n",
    "There's a small fruit shop nearby your house that you like to buy from. Since you buy several fruit at a time, you want to keep track of how much the fruit will cost before you go. Luckily you wrote down what fruits were available and how much one of each fruit costs.\n",
    "\n",
    "Write a program that loops through a dictionary of fruits, prompting the user to see how many of each fruit they want to buy, and then prints out the total combined cost of all of the fruits.\n",
    "\n",
    "Here is an example run of the program (user input is in bold italics):\n",
    "\n",
    "How many (apple) do you want?: 2\n",
    "\n",
    "How many (durian) do you want?: 0\n",
    "\n",
    "How many (jackfruit) do you want?: 1\n",
    "\n",
    "How many (kiwi) do you want?: 0\n",
    "\n",
    "How many (rambutan) do you want?: 1\n",
    "\n",
    "How many (mango) do you want?: 3\n",
    "\n",
    "Your total is $99.5"
   ]
  },
  {
   "cell_type": "code",
   "execution_count": 5,
   "metadata": {},
   "outputs": [
    {
     "name": "stdout",
     "output_type": "stream",
     "text": [
      "The cost of 7 apples is: $ 10.5\n",
      "The cost of 8 durain is: $ 400\n",
      "The cost of 9 jackfruit is: $ 720\n",
      "The cost of 5 kiwi is: $ 5\n",
      "The cost of 6 rambutan is: $ 9.0\n",
      "The cost of 9 mango is: $ 45\n",
      "\n",
      "Total cost of fruits: $ 1189.5\n"
     ]
    }
   ],
   "source": [
    "def main():\n",
    "    # Dictionary storing fruit names as keys and their prices as values\n",
    "    fruits = {\n",
    "        \"apples\" : 1.5,      # $1.50 per apple\n",
    "        \"durain\": 50,        # $50 per durian\n",
    "        \"jackfruit\": 80,     # $80 per jackfruit\n",
    "        \"kiwi\": 1,           # $1 per kiwi\n",
    "        \"rambutan\": 1.5,     # $1.50 per rambutan\n",
    "        \"mango\": 5,          # $5 per mango\n",
    "    }\n",
    "\n",
    "    # Initialize total cost accumulator\n",
    "    total_cost = 0\n",
    "\n",
    "    # Iterate through each fruit in the dictionary\n",
    "    for friuts_name in fruits:\n",
    "        # Get price of current fruit\n",
    "        price = fruits[friuts_name]\n",
    "        # Ask user how many of this fruit they want to buy\n",
    "        amount_bought = int(input(f\"How many {friuts_name} you want to buy? \"))\n",
    "        # Add cost of these fruits to total (price × quantity)\n",
    "        total_cost += float(price * amount_bought)\n",
    "        # Display cost for this fruit purchase\n",
    "        print(f\"The cost of {amount_bought} {friuts_name} is: $ {price * amount_bought}\")\n",
    "    \n",
    "    # Display final total cost of all fruits\n",
    "    print(f\"\\nTotal cost of fruits: $ {total_cost}\")\n",
    "\n",
    "\n",
    "# Python boilerplate to ensure main() only runs if this file is run directly\n",
    "if __name__ == \"__main__\":\n",
    "    main()"
   ]
  }
 ],
 "metadata": {
  "kernelspec": {
   "display_name": "Python 3",
   "language": "python",
   "name": "python3"
  },
  "language_info": {
   "codemirror_mode": {
    "name": "ipython",
    "version": 3
   },
   "file_extension": ".py",
   "mimetype": "text/x-python",
   "name": "python",
   "nbconvert_exporter": "python",
   "pygments_lexer": "ipython3",
   "version": "3.13.2"
  }
 },
 "nbformat": 4,
 "nbformat_minor": 2
}
