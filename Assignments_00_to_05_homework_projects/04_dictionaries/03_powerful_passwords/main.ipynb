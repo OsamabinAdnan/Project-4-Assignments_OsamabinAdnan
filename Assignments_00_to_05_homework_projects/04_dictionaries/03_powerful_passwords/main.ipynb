{
 "cells": [
  {
   "cell_type": "markdown",
   "metadata": {},
   "source": [
    "**Problem Statement**\n",
    "\n",
    "You want to be safe online and use different passwords for different websites. However, you are forgetful at times and want to make a program that can match which password belongs to which website without storing the actual password!\n",
    "\n",
    "This can be done via something called hashing. Hashing is when we take something and convert it into a different, unique identifier. This is done using a hash function. Luckily, there are several resources that can help us with this.\n",
    "\n",
    "For example, using a hash function called SHA256(...) something as simple as\n",
    "\n",
    "hello\n",
    "\n",
    "can be hashed into a much more complex\n",
    "\n",
    "2cf24dba5fb0a30e26e83b2ac5b9e29e1b161e5c1fa7425e73043362938b9824\n",
    "\n",
    "Fill out the login(...) function for a website that hashes their passwords. Login should return True if an email's stored password hash in stored_logins is the same as the hash of password_to_check.\n",
    "\n",
    "(Hint. You will need to use the provided hash_password(...) function. You don't necessarily need to know how it works, just know that hash_password(...) returns the hash for the password!)"
   ]
  },
  {
   "cell_type": "code",
   "execution_count": 2,
   "metadata": {},
   "outputs": [
    {
     "name": "stdout",
     "output_type": "stream",
     "text": [
      "False\n",
      "True\n",
      "False\n",
      "True\n",
      "False\n",
      "True\n"
     ]
    }
   ],
   "source": [
    "# Import SHA256 hashing algorithm from hashlib\n",
    "from hashlib import sha256\n",
    "\n",
    "def login(email, stored_logins, password_to_check):\n",
    "    \"\"\"\n",
    "    Returns True if the hash of the password we are checking matches the one in stored_logins\n",
    "    for a specific email. Otherwise, returns False.\n",
    "\n",
    "    Parameters:\n",
    "        email: The email address to check (key in stored_logins dictionary)\n",
    "        stored_logins: Dictionary mapping emails to hashed passwords\n",
    "        password_to_check: Plain text password to verify\n",
    "    \"\"\"\n",
    "    # Hash the provided password and compare with stored hash\n",
    "    if stored_logins[email] == hash_password(password_to_check):\n",
    "        return True\n",
    "    return False\n",
    "\n",
    "def hash_password(password):\n",
    "    \"\"\"\n",
    "    Takes in a password and returns the SHA256 hashed value for that specific password.\n",
    "    \n",
    "    Parameters:\n",
    "        password: Plain text password to hash\n",
    "    \n",
    "    Returns:\n",
    "        Hexadecimal string representation of the hashed password\n",
    "    \"\"\"\n",
    "    # Convert password to bytes, hash it, and return hex string\n",
    "    return sha256(password.encode()).hexdigest()\n",
    "\n",
    "def main():\n",
    "    # Dictionary of email:hashed_password pairs\n",
    "    # Note: These are real SHA256 hashes of actual passwords:\n",
    "    # example@gmail.com -> \"password\"\n",
    "    # code_in_placer@cip.org -> \"karel\"\n",
    "    # student@stanford.edu -> \"123!456?789\"\n",
    "    stored_logins = {\n",
    "        \"example@gmail.com\": \"5e884898da28047151d0e56f8dc6292773603d0d6aabbdd62a11ef721d1542d8\",\n",
    "        \"code_in_placer@cip.org\": \"973607a4ae7b4cf7d96a100b0fb07e8519cc4f70441d41214a9f811577bb06cc\",\n",
    "        \"student@stanford.edu\": \"882c6df720fd99f5eebb1581a1cf975625cea8a160283011c0b9512bb56c95fb\"\n",
    "    }\n",
    "\n",
    "    # Test cases for login function\n",
    "    # Test case 1: incorrect and correct password for example@gmail.com\n",
    "    print(login(\"example@gmail.com\", stored_logins, \"word\"))          # Should print False\n",
    "    print(login(\"example@gmail.com\", stored_logins, \"password\"))      # Should print True\n",
    "    \n",
    "    # Test case 2: case-sensitive password test for code_in_placer@cip.org\n",
    "    print(login(\"code_in_placer@cip.org\", stored_logins, \"Karel\"))   # Should print False\n",
    "    print(login(\"code_in_placer@cip.org\", stored_logins, \"karel\"))   # Should print True\n",
    "    \n",
    "    # Test case 3: complex password test for student@stanford.edu\n",
    "    print(login(\"student@stanford.edu\", stored_logins, \"password\"))   # Should print False\n",
    "    print(login(\"student@stanford.edu\", stored_logins, \"123!456?789\")) # Should print True\n",
    "\n",
    "# Python boilerplate to ensure main() only runs if this file is run directly\n",
    "if __name__ == \"__main__\":\n",
    "    main()"
   ]
  }
 ],
 "metadata": {
  "kernelspec": {
   "display_name": "Python 3",
   "language": "python",
   "name": "python3"
  },
  "language_info": {
   "codemirror_mode": {
    "name": "ipython",
    "version": 3
   },
   "file_extension": ".py",
   "mimetype": "text/x-python",
   "name": "python",
   "nbconvert_exporter": "python",
   "pygments_lexer": "ipython3",
   "version": "3.13.2"
  }
 },
 "nbformat": 4,
 "nbformat_minor": 2
}
