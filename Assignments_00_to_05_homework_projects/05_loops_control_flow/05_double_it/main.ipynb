{
 "cells": [
  {
   "cell_type": "markdown",
   "metadata": {},
   "source": [
    "**Problem**\n",
    "\n",
    "Write a program that asks a user to enter a number. Your program will then double that number and print out the result. It will repeat that process until the value is 100 or greater.\n",
    "\n",
    "For example if the user enters the number 2 you would then print:"
   ]
  },
  {
   "cell_type": "code",
   "execution_count": 3,
   "metadata": {},
   "outputs": [
    {
     "name": "stdout",
     "output_type": "stream",
     "text": [
      "Starting with: 2\n",
      "Doubling sequence: 4 8 16 32 64 128 \n",
      "Reached 100 or greater!\n"
     ]
    }
   ],
   "source": [
    "def main():\n",
    "    \"\"\"\n",
    "    Function that doubles a user-provided number repeatedly until it reaches or exceeds 100.\n",
    "    Includes error handling and clear output formatting.\n",
    "    \"\"\"\n",
    "    # Get initial number from user with error handling\n",
    "    try:\n",
    "        user_input = int(input(\"Enter a number: \"))\n",
    "        if user_input <= 0:\n",
    "            print(\"Please enter a positive number\")\n",
    "            return\n",
    "    except ValueError:\n",
    "        print(\"Please enter a valid integer\")\n",
    "        return\n",
    "\n",
    "    # Print initial number\n",
    "    print(f\"Starting with: {user_input}\")\n",
    "    print(\"Doubling sequence:\", end=\" \")\n",
    "\n",
    "    # Continue doubling until number reaches or exceeds 100\n",
    "    while user_input < 100:\n",
    "        user_input *= 2\n",
    "        print(user_input, end=\" \")\n",
    "    \n",
    "    # Add newline at end for cleaner output\n",
    "    print(\"\\nReached 100 or greater!\")\n",
    "\n",
    "if __name__ == \"__main__\":\n",
    "    main()"
   ]
  }
 ],
 "metadata": {
  "kernelspec": {
   "display_name": "Python 3",
   "language": "python",
   "name": "python3"
  },
  "language_info": {
   "codemirror_mode": {
    "name": "ipython",
    "version": 3
   },
   "file_extension": ".py",
   "mimetype": "text/x-python",
   "name": "python",
   "nbconvert_exporter": "python",
   "pygments_lexer": "ipython3",
   "version": "3.13.2"
  }
 },
 "nbformat": 4,
 "nbformat_minor": 2
}
