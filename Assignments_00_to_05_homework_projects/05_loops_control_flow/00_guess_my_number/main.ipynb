{
 "cells": [
  {
   "cell_type": "markdown",
   "metadata": {},
   "source": [
    "**Problem Statement**\n",
    "\n",
    "Guess My Number\n",
    "\n",
    "I am thinking of a number between 0 and 99... Enter a guess: 50 Your guess is too high\n",
    "\n",
    "Enter a new number: 25 Your guess is too low\n",
    "\n",
    "Enter a new number: 40 Your guess is too low\n",
    "\n",
    "Enter a new number: 45 Your guess is too low\n",
    "\n",
    "Enter a new number: 48 Congrats! The number was: 48"
   ]
  },
  {
   "cell_type": "code",
   "execution_count": null,
   "metadata": {},
   "outputs": [
    {
     "name": "stdout",
     "output_type": "stream",
     "text": [
      "I am thinking of a number between 1 and 100...\n",
      "You guess is too low\n",
      "\n",
      "You guess is too high\n",
      "\n",
      "You guess is too high\n",
      "\n",
      "You guess is too low\n",
      "\n",
      "You guess is too low\n",
      "\n",
      "You guess is too low\n",
      "\n",
      "Congratulations! You guessed the number which is `54`!\n"
     ]
    }
   ],
   "source": [
    "import random  # Import random module for generating random numbers\n",
    "\n",
    "def main():\n",
    "    # Generate a random number between 1 and 100 (inclusive)\n",
    "    secret_number:int = random.randint(1, 100)\n",
    "\n",
    "    # Display initial game message\n",
    "    print(\"I am thinking of a number between 1 and 100...\")\n",
    "\n",
    "    # Get the first guess from the user\n",
    "    guess:int = int(input(\"Guess the number:\"))\n",
    "\n",
    "    # Continue loop until user guesses the correct number\n",
    "    while guess != secret_number:\n",
    "        # Give hint if guess is too low\n",
    "        if guess < secret_number:\n",
    "            print(\"You guess is too low\")\n",
    "        # Give hint if guess is too high\n",
    "        elif guess > secret_number:\n",
    "            print(\"You guess is too high\")\n",
    "        else:\n",
    "            break  # This break is actually unreachable due to while condition\n",
    "        \n",
    "        print() # Print an empty line to tidy up the console for new guesses\n",
    "        guess = int(input(\"Enter a new guess: \"))  # Get a new guess from the user\n",
    "    \n",
    "    # Display victory message with the correct number\n",
    "    print(f\"Congratulations! You guessed the number which is `{secret_number}`!\")\n",
    "\n",
    "# Ensure the game only runs if this file is run directly (not imported)\n",
    "if __name__ == \"__main__\":\n",
    "    main()"
   ]
  }
 ],
 "metadata": {
  "kernelspec": {
   "display_name": "Python 3",
   "language": "python",
   "name": "python3"
  },
  "language_info": {
   "codemirror_mode": {
    "name": "ipython",
    "version": 3
   },
   "file_extension": ".py",
   "mimetype": "text/x-python",
   "name": "python",
   "nbconvert_exporter": "python",
   "pygments_lexer": "ipython3",
   "version": "3.13.2"
  }
 },
 "nbformat": 4,
 "nbformat_minor": 2
}
