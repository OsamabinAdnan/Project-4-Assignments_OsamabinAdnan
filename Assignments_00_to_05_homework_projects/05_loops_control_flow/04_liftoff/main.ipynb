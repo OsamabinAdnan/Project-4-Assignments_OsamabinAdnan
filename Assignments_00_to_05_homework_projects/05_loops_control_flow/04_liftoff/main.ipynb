{
 "cells": [
  {
   "cell_type": "markdown",
   "metadata": {},
   "source": [
    "**Problem Statement**\n",
    "\n",
    "Write a program that prints out the calls for a spaceship that is about to launch. Countdown from 10 to 1 and then output Liftoff!\n",
    "\n",
    "Here's a sample run of the program:\n",
    "\n",
    "10 9 8 7 6 5 4 3 2 1 Liftoff!\n",
    "\n",
    "There are many ways to solve this problem. One approach is to use a for loop, and to use the for loop variable i. Recall that i will keep track of how many times the for loop has completed executing its body. As an example this code:\n",
    "\n",
    "for i in range(10): print(i)\n",
    "\n",
    "Will print out the values 0, 1, 2, 3, 4, 5, 6, 7, 8, 9. The values printed in liftoff are 10 minus the number of times the for loop has completed."
   ]
  },
  {
   "cell_type": "code",
   "execution_count": null,
   "metadata": {},
   "outputs": [
    {
     "name": "stdout",
     "output_type": "stream",
     "text": [
      "We're ready for launch!\n",
      "Counting down...\n",
      "10\n",
      "9\n",
      "8\n",
      "7\n",
      "6\n",
      "5\n",
      "4\n",
      "3\n",
      "2\n",
      "1\n",
      "Liftoff!\n"
     ]
    }
   ],
   "source": [
    "def main():\n",
    "    \"\"\"\n",
    "    Function prints out the calls for a spaceship that is about to launch. \n",
    "    Countdown from 10 to 1 and then output Liftoff!\n",
    "    \"\"\"\n",
    "    # Initial launch preparation message\n",
    "    print(\"We're ready for launch!\")\n",
    "    print(\"Counting down...\")\n",
    "\n",
    "    # Countdown loop from 10 to 1\n",
    "    # range(10, 0, -1) means:\n",
    "    # - Start at 10\n",
    "    # - Go until 0 (exclusive)\n",
    "    # - Step by -1 (counting down)\n",
    "    for i in range(10, 0, -1):\n",
    "        print(i)\n",
    "\n",
    "    # Final liftoff message after countdown completes\n",
    "    print(\"Liftoff!\")\n",
    "\n",
    "# Entry point of program - only run if file is executed directly\n",
    "if __name__ == \"__main__\":\n",
    "    main()"
   ]
  }
 ],
 "metadata": {
  "kernelspec": {
   "display_name": "Python 3",
   "language": "python",
   "name": "python3"
  },
  "language_info": {
   "codemirror_mode": {
    "name": "ipython",
    "version": 3
   },
   "file_extension": ".py",
   "mimetype": "text/x-python",
   "name": "python",
   "nbconvert_exporter": "python",
   "pygments_lexer": "ipython3",
   "version": "3.13.2"
  }
 },
 "nbformat": 4,
 "nbformat_minor": 2
}
