{
 "cells": [
  {
   "cell_type": "markdown",
   "metadata": {},
   "source": [
    "**Problem Statement**\n",
    "\n",
    "Write a program which prompts the user to type an affirmation of your choice (we'll use \"I am capable of doing anything I put my mind to.\") until they type it correctly. Sometimes, especially in the midst of such uncertain times, we just need to be reminded that we are resilient, capable, and strong; this little Python program may be able to help!\n",
    "\n",
    "Here's a sample run of the program (user input is in blue):\n",
    "\n",
    "Please type the following affirmation: I am capable of doing anything I put my mind to. Hmmm That was not the affirmation. Please type the following affirmation: I am capable of doing anything I put my mind to. I am capable of doing anything I put my mind to. That's right! :)\n",
    "\n",
    "Note that you can call input() with no prompt and it will still wait for a user to type something!"
   ]
  },
  {
   "cell_type": "code",
   "execution_count": 3,
   "metadata": {},
   "outputs": [
    {
     "name": "stdout",
     "output_type": "stream",
     "text": [
      "Please type the following affirmation: I am capable of doing anything I put my mind to.\n",
      "That's right affirmation!\n"
     ]
    }
   ],
   "source": [
    "# Define the affirmation message that user needs to type\n",
    "affirmation:str = \"I am capable of doing anything I put my mind to.\"\n",
    "\n",
    "def main():\n",
    "    # Display the affirmation and ask user to type it\n",
    "    print(f\"Please type the following affirmation: {affirmation}\")\n",
    "    \n",
    "    # Get initial input from user\n",
    "    user_feedback = input()\n",
    "\n",
    "    # Continue loop until user types the exact affirmation\n",
    "    while user_feedback != affirmation:\n",
    "        # Inform user their input was incorrect\n",
    "        print(\"That was not the affirmation.\")\n",
    "        \n",
    "        # Show the affirmation again\n",
    "        print(f\"Please type the following affirmation: {affirmation}\")\n",
    "        \n",
    "        # Get new input from user\n",
    "        user_feedback = input()\n",
    "\n",
    "    # Display success message when correct affirmation is typed\n",
    "    print(\"That's right affirmation!\")\n",
    "\n",
    "# Only run the program if this file is executed directly\n",
    "if __name__ == \"__main__\":\n",
    "    main()"
   ]
  }
 ],
 "metadata": {
  "kernelspec": {
   "display_name": "Python 3",
   "language": "python",
   "name": "python3"
  },
  "language_info": {
   "codemirror_mode": {
    "name": "ipython",
    "version": 3
   },
   "file_extension": ".py",
   "mimetype": "text/x-python",
   "name": "python",
   "nbconvert_exporter": "python",
   "pygments_lexer": "ipython3",
   "version": "3.13.2"
  }
 },
 "nbformat": 4,
 "nbformat_minor": 2
}
