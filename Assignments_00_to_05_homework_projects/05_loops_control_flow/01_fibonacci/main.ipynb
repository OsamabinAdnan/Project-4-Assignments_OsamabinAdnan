{
 "cells": [
  {
   "cell_type": "markdown",
   "metadata": {},
   "source": [
    "**Problem Statement**\n",
    "\n",
    "Write a program to print terms in the Fibonacci sequence up to a maximum value.\n",
    "\n",
    "In the 13th century, the Italian mathematician Leonardo Fibonacci, as a way to explain the geometric growth of a population of rabbits, devised a mathematical sequence that now bears his name. The first two terms in this sequence, Fib(0) and Fib(1), are 0 and 1, and every subsequent term is the sum of the preceding two. Thus, the first several terms in the Fibonacci sequence look like this:\n",
    "\n",
    "Fib(0) = 0 Fib(1) = 1 Fib(2) = 1 = 0 + 1 Fib(3) = 2 = 1 + 1 Fib(4) = 3 = 1 + 2 Fib(5) = 5 = 2 + 3\n",
    "\n",
    "Write a program that displays the terms in the Fibonacci sequence, starting with Fib(0) and continuing as long as the terms are less than 10,000 (you should store this value as a constant!). Thus, your program should produce the following sample run:\n",
    "\n",
    "0 1 1 2 3 5 8 13 21 34 55 89 144 233 377 610 987 1597 2584 4181 6765"
   ]
  },
  {
   "cell_type": "code",
   "execution_count": 15,
   "metadata": {},
   "outputs": [
    {
     "name": "stdout",
     "output_type": "stream",
     "text": [
      "0 1 1 2 3 5 8 13 21 34 55 89 144 233 377 610 987 1597 2584 4181 6765 "
     ]
    }
   ],
   "source": [
    "# Maximum value for Fibonacci sequence terms\n",
    "Max_term_value: int = 10000\n",
    "\n",
    "def main():\n",
    "    # Initialize first two terms of Fibonacci sequence\n",
    "    current_term = 0  # First number in sequence\n",
    "    next_term = 1    # Second number in sequence\n",
    "\n",
    "    # Continue generating sequence until current term exceeds max value\n",
    "    while current_term <= Max_term_value:\n",
    "        # Print current term with space separator\n",
    "        print(current_term, end=\" \")\n",
    "        \n",
    "        # Calculate next Fibonacci number by:\n",
    "        # 1. current_term becomes next_term\n",
    "        # 2. next_term becomes sum of old current_term and next_term\n",
    "        current_term, next_term = next_term, current_term + next_term\n",
    "\n",
    "# Entry point of program - only run if file is executed directly\n",
    "if __name__ == \"__main__\":\n",
    "    main()"
   ]
  }
 ],
 "metadata": {
  "kernelspec": {
   "display_name": "Python 3",
   "language": "python",
   "name": "python3"
  },
  "language_info": {
   "codemirror_mode": {
    "name": "ipython",
    "version": 3
   },
   "file_extension": ".py",
   "mimetype": "text/x-python",
   "name": "python",
   "nbconvert_exporter": "python",
   "pygments_lexer": "ipython3",
   "version": "3.13.2"
  }
 },
 "nbformat": 4,
 "nbformat_minor": 2
}
