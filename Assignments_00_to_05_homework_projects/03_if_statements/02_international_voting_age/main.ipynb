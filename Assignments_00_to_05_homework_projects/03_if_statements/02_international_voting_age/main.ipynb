{
 "cells": [
  {
   "cell_type": "markdown",
   "metadata": {},
   "source": [
    "**Problem Statement**\n",
    "\n",
    "Write a program which asks a user for their age and lets them know if they can or can't vote in the following three fictional countries.\n",
    "\n",
    "Around the world, different countries have different voting ages. In the fictional countries of Peturksbouipo, Stanlau, and Mayengua, the voting ages are very different:\n",
    "\n",
    "the voting age in Peturksbouipo is 16 (in real life, this is the voting age in, for example, Scotland, Ethiopia, and Austria)\n",
    "\n",
    "the voting age in Stanlau is 25 (in real life this is the voting age in the United Arab Emirates)\n",
    "\n",
    "the voting age in Mayengua is 48 (in real life, as far as we can tell, this isn't the voting age anywhere)\n",
    "\n",
    "Your code should prompt the for their age and print whether or not they can vote in Peturksbouipo, Stanlau, or Mayengua.\n",
    "\n",
    "Here's a sample run of the program (user input is in blue):\n",
    "\n",
    "How old are you? 20 You can vote in Peturksbouipo where the voting age is 16. You cannot vote in Stanlau where the voting age is 25. You cannot vote in Mayengua where the voting age is 48."
   ]
  },
  {
   "cell_type": "code",
   "execution_count": 8,
   "metadata": {},
   "outputs": [
    {
     "name": "stdout",
     "output_type": "stream",
     "text": [
      "Your age is 36. You can vote in Peturksbouipo where the voting age is 16\n",
      "Your age is 36. You can vote in Stanlau where the voting age is 25\n",
      "Your age is 36. You cannot vote in Mayengua where the voting age is 48\n"
     ]
    }
   ],
   "source": [
    "# Define voting age constants for different countries\n",
    "Peturksbouipo : int = 16  # Minimum voting age in Peturksbouipo\n",
    "Stanlau : int = 25        # Minimum voting age in Stanlau\n",
    "Mayengua :int = 48        # Minimum voting age in Mayengua\n",
    "\n",
    "def main():\n",
    "    \"\"\"Check voting eligibility in different countries based on user's age.\"\"\"\n",
    "    # Get age input from user and convert to integer\n",
    "    user_input:int = int(input(\"Enter your age to check if you can vote in certain countries: \"))\n",
    "\n",
    "    # Validate that age is not negative\n",
    "    if user_input <0:\n",
    "        print(\"Invalid age. Age cannot be negative.\")\n",
    "    else:\n",
    "        # Check if the user can vote in Peturksbouipo\n",
    "        if user_input >= Peturksbouipo:\n",
    "            print(f\"Your age is {user_input}. You can vote in Peturksbouipo where the voting age is {Peturksbouipo}\")\n",
    "        else:\n",
    "            print(f\"Your age is {user_input}. You cannot vote in Peturksbouipo where the voting age is {Peturksbouipo}\")\n",
    "        \n",
    "        # Check if the user can vote in Stanlau\n",
    "        if user_input >= Stanlau:\n",
    "            print(f\"Your age is {user_input}. You can vote in Stanlau where the voting age is {Stanlau}\")\n",
    "        else:\n",
    "            print(f\"Your age is {user_input}. You cannot vote in Stanlau where the voting age is {Stanlau}\")\n",
    "        \n",
    "        # Check if the user can vote in Mayengua\n",
    "        if user_input >= Mayengua:\n",
    "            print(f\"Your age is {user_input}. You can vote in Mayengua where the voting age is {Mayengua}\")\n",
    "        else:\n",
    "            print(f\"Your age is {user_input}. You cannot vote in Mayengua where the voting age is {Mayengua}\")\n",
    "\n",
    "# Run the main function if this script is run directly\n",
    "if __name__ == \"__main__\":\n",
    "    main()"
   ]
  }
 ],
 "metadata": {
  "kernelspec": {
   "display_name": "Python 3",
   "language": "python",
   "name": "python3"
  },
  "language_info": {
   "codemirror_mode": {
    "name": "ipython",
    "version": 3
   },
   "file_extension": ".py",
   "mimetype": "text/x-python",
   "name": "python",
   "nbconvert_exporter": "python",
   "pygments_lexer": "ipython3",
   "version": "3.13.2"
  }
 },
 "nbformat": 4,
 "nbformat_minor": 2
}
