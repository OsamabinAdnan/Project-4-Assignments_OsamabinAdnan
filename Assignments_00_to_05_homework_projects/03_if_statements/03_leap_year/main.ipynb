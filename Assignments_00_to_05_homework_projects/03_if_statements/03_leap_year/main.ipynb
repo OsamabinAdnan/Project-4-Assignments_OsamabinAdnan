{
 "cells": [
  {
   "cell_type": "markdown",
   "metadata": {},
   "source": [
    "**Problem Statement**\n",
    "\n",
    "Write a program that reads a year from the user and tells whether a given year is a leap year or not.\n",
    "\n",
    "In the Gregorian calendar, three criteria must be checked to identify leap years:\n",
    "\n",
    "1) The given year must be evenly divisible by 4;\n",
    "2) If the year can also be evenly divided by 100, it is NOT a leap year; unless:\n",
    "3) The year is also evenly divisible by 400. Then it is a leap year."
   ]
  },
  {
   "cell_type": "code",
   "execution_count": 3,
   "metadata": {},
   "outputs": [
    {
     "name": "stdout",
     "output_type": "stream",
     "text": [
      "2024 is a leap year\n"
     ]
    }
   ],
   "source": [
    "def main():\n",
    "    \"\"\"Function to check if a year is a leap year or not\"\"\"\n",
    "    # Get year input from user and convert to integer\n",
    "    year = int(input(\"Enter a year to check it is a leap year or not: \"))\n",
    "\n",
    "    # First condition: Check if year is divisible by 4\n",
    "    if year % 4 == 0:\n",
    "        # Second condition: Check if year is divisible by 100\n",
    "        if year % 100 == 0:\n",
    "            # Third condition: Check if year is divisible by 400\n",
    "            if year % 400 == 0:\n",
    "                # If year divisible by 400, it's a leap year\n",
    "                print(f\"{year} is a leap year\")\n",
    "            else:\n",
    "                # If year divisible by 100 but not 400, it's not a leap year\n",
    "                print(f\"{year} is not a leap year\")\n",
    "        else:\n",
    "            # If year divisible by 4 but not 100, it's a leap year\n",
    "            print(f\"{year} is a leap year\")\n",
    "    else:\n",
    "        # If year not divisible by 4, it's not a leap year\n",
    "        print(f\"{year} is not a leap year\")\n",
    "\n",
    "\n",
    "# Run the main function if this script is run directly\n",
    "if __name__ == \"__main__\":\n",
    "    main()"
   ]
  }
 ],
 "metadata": {
  "kernelspec": {
   "display_name": "Python 3",
   "language": "python",
   "name": "python3"
  },
  "language_info": {
   "codemirror_mode": {
    "name": "ipython",
    "version": 3
   },
   "file_extension": ".py",
   "mimetype": "text/x-python",
   "name": "python",
   "nbconvert_exporter": "python",
   "pygments_lexer": "ipython3",
   "version": "3.13.2"
  }
 },
 "nbformat": 4,
 "nbformat_minor": 2
}
