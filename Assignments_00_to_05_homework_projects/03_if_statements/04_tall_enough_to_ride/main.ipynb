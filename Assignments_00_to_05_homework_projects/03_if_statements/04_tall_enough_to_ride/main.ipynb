{
 "cells": [
  {
   "cell_type": "markdown",
   "metadata": {},
   "source": [
    "**Problem Statement**\n",
    "\n",
    "Write a program which asks the user how tall they are and prints whether or not they're taller than a pre-specified minimum height."
   ]
  },
  {
   "cell_type": "code",
   "execution_count": 3,
   "metadata": {},
   "outputs": [
    {
     "name": "stdout",
     "output_type": "stream",
     "text": [
      "You are tall enough to ride!\n"
     ]
    }
   ],
   "source": [
    "minimum_height = 50 # unit\n",
    "\n",
    "def main():\n",
    "    \n",
    "    user_input = float(input(\"How tall are you?\"))\n",
    "    if user_input >= minimum_height:\n",
    "        print(\"You are tall enough to ride!\")\n",
    "    else:\n",
    "        print(\"You are not tall enough to ride! but maybe next year\")\n",
    "\n",
    "if __name__ == \"__main__\":\n",
    "    main()"
   ]
  }
 ],
 "metadata": {
  "kernelspec": {
   "display_name": "Python 3",
   "language": "python",
   "name": "python3"
  },
  "language_info": {
   "codemirror_mode": {
    "name": "ipython",
    "version": 3
   },
   "file_extension": ".py",
   "mimetype": "text/x-python",
   "name": "python",
   "nbconvert_exporter": "python",
   "pygments_lexer": "ipython3",
   "version": "3.13.2"
  }
 },
 "nbformat": 4,
 "nbformat_minor": 2
}
