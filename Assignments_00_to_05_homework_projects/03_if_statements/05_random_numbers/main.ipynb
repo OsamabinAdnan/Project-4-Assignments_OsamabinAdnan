{
 "cells": [
  {
   "cell_type": "markdown",
   "metadata": {},
   "source": [
    "**Problem Statement**\n",
    "\n",
    "Print 10 random numbers in the range 1 to 100.\n",
    "\n",
    "Here is an example run:\n",
    "\n",
    "45 79 61 47 52 10 16 83 19 12\n",
    "\n",
    "Each time you run your program you should get different numbers\n",
    "\n",
    "81 76 70 1 27 63 96 100 32 92\n",
    "\n",
    "Recall that the python random library has a function randint which returns an integer in the range set by the parameters (inclusive). For example this call would produce a random integer between 1 and 6, which could include 1 and could include 6:\n",
    "\n",
    "value = random.randint(1, 6)"
   ]
  },
  {
   "cell_type": "code",
   "execution_count": 7,
   "metadata": {},
   "outputs": [
    {
     "name": "stdout",
     "output_type": "stream",
     "text": [
      "45 88 65 47 7 65 19 85 66 67 "
     ]
    }
   ],
   "source": [
    "# Import the random module to generate random numbers\n",
    "import random\n",
    "\n",
    "# Define constants for number generation\n",
    "n_numbers = 10      # Number of random numbers to generate\n",
    "min_number = 1      # Minimum value in range\n",
    "max_number = 100    # Maximum value in range\n",
    "\n",
    "def main():\n",
    "    \"\"\"Function generate 10 random numbers between 1 to 100\"\"\"\n",
    "    # Loop n_numbers times to generate random numbers\n",
    "    for x in range(n_numbers):\n",
    "        # Generate and print a random integer between min_number and max_number\n",
    "        # end=\" \" adds a space instead of newline after each number\n",
    "        print(random.randint(min_number, max_number), end=\" \")\n",
    "\n",
    "# Standard Python idiom to run main() only if script is run directly\n",
    "if __name__ == '__main__':\n",
    "    main()"
   ]
  }
 ],
 "metadata": {
  "kernelspec": {
   "display_name": "Python 3",
   "language": "python",
   "name": "python3"
  },
  "language_info": {
   "codemirror_mode": {
    "name": "ipython",
    "version": 3
   },
   "file_extension": ".py",
   "mimetype": "text/x-python",
   "name": "python",
   "nbconvert_exporter": "python",
   "pygments_lexer": "ipython3",
   "version": "3.13.2"
  }
 },
 "nbformat": 4,
 "nbformat_minor": 2
}
