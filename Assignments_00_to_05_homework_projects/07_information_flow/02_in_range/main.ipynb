{
 "cells": [
  {
   "cell_type": "markdown",
   "metadata": {},
   "source": [
    "**Problem Statement**\n",
    "\n",
    "Implement the following function which takes in 3 integers as parameters:\n",
    "\n",
    "def in_range(n, low, high) \"\"\" Returns True if n is between low and high, inclusive. high is guaranteed to be greater than low. \"\"\""
   ]
  },
  {
   "cell_type": "code",
   "execution_count": 5,
   "metadata": {},
   "outputs": [
    {
     "name": "stdout",
     "output_type": "stream",
     "text": [
      "n = 5, low = 1, high = 10: True\n",
      "n = 1, low = 2, high = 10: False\n"
     ]
    }
   ],
   "source": [
    "def in_range(n, low, high):\n",
    "    \"\"\"\n",
    "    Returns True if n is between low and high, inclusive. high is guaranteed to be greater than low.\n",
    "    \"\"\"\n",
    "    if n >= low and n <= high:\n",
    "        return True\n",
    "    return False\n",
    "\n",
    "def main():\n",
    "    print(\"n = 5, low = 1, high = 10:\", in_range(5, 1, 10))\n",
    "    print(\"n = 1, low = 2, high = 10:\", in_range(1, 2, 10))\n",
    "\n",
    "if __name__ == \"__main__\":\n",
    "    main()"
   ]
  }
 ],
 "metadata": {
  "kernelspec": {
   "display_name": "Python 3",
   "language": "python",
   "name": "python3"
  },
  "language_info": {
   "codemirror_mode": {
    "name": "ipython",
    "version": 3
   },
   "file_extension": ".py",
   "mimetype": "text/x-python",
   "name": "python",
   "nbconvert_exporter": "python",
   "pygments_lexer": "ipython3",
   "version": "3.13.2"
  }
 },
 "nbformat": 4,
 "nbformat_minor": 2
}
