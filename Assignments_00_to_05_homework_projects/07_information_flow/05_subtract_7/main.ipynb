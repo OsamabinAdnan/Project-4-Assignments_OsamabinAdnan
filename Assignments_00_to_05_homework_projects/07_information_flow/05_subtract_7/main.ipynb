{
 "cells": [
  {
   "cell_type": "markdown",
   "metadata": {},
   "source": [
    "**Problem Statement**\n",
    "\n",
    "Fill out the subtract_seven helper function to subtract 7 from num, and fill out the main() method to call the subtract_seven helper function! If you're stuck, revisit the add_five example from lecture."
   ]
  },
  {
   "cell_type": "code",
   "execution_count": null,
   "metadata": {},
   "outputs": [
    {
     "name": "stdout",
     "output_type": "stream",
     "text": [
      "This should be 0: 0\n"
     ]
    }
   ],
   "source": [
    "def subtract_seven(num:int):\n",
    "    # Subtract 7 from the input number\n",
    "    num = num - 7\n",
    "    return num\n",
    "\n",
    "def main():\n",
    "    # Initialize num with value 7\n",
    "    num:int = 7\n",
    "    \n",
    "    # Call subtract_seven function and store result\n",
    "    num = subtract_seven(num)\n",
    "    \n",
    "    # Print result, expecting 0 since 7-7=0\n",
    "    print(f\"This should be 0: {num}\")\n",
    "\n",
    "# Program entry point\n",
    "if  __name__ == \"__main__\":\n",
    "    main()"
   ]
  }
 ],
 "metadata": {
  "kernelspec": {
   "display_name": "Python 3",
   "language": "python",
   "name": "python3"
  },
  "language_info": {
   "codemirror_mode": {
    "name": "ipython",
    "version": 3
   },
   "file_extension": ".py",
   "mimetype": "text/x-python",
   "name": "python",
   "nbconvert_exporter": "python",
   "pygments_lexer": "ipython3",
   "version": "3.13.2"
  }
 },
 "nbformat": 4,
 "nbformat_minor": 2
}
