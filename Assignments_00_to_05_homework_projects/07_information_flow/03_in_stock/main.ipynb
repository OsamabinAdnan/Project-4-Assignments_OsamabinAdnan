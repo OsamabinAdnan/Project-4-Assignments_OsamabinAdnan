{
 "cells": [
  {
   "cell_type": "markdown",
   "metadata": {},
   "source": [
    "**Problem Statement**\n",
    "\n",
    "Sophia has a fruit store. She has written a function num_in_stock which takes a string fruit as a parameter and returns how many of that fruit are in her inventory. Write code in main() which will:\n",
    "\n",
    "Prompt the user to enter a fruit (\"Enter a fruit: \")\n",
    "\n",
    "Call num_in_stock(fruit) to get the number of that fruit that Sophia has in stock\n",
    "\n",
    "Print the number which are in stock if Sophia has that fruit in her inventory (there are more than 0 in stock)\n",
    "\n",
    "Print \"This fruit is not in stock.\" if Sophia has none of that fruit in her inventory.\n",
    "\n",
    "Here's two sample runs of the program (user input in bold italics):\n",
    "\n",
    "Enter a fruit: pear\n",
    "\n",
    "This fruit is in stock! Here is how many:\n",
    "\n",
    "1000\n",
    "\n",
    "Enter a fruit: lychee\n",
    "\n",
    "This fruit is not in stock."
   ]
  },
  {
   "cell_type": "code",
   "execution_count": null,
   "metadata": {},
   "outputs": [
    {
     "name": "stdout",
     "output_type": "stream",
     "text": [
      "We have 20 apple(s) in stock.\n"
     ]
    }
   ],
   "source": [
    "def num_in_stock(fruit):\n",
    "    \"\"\"\n",
    "    This function returns the number of fruit Sophia has in stock.\n",
    "    \n",
    "    Args:\n",
    "        fruit (str): Name of the fruit to check in inventory\n",
    "        \n",
    "    Returns:\n",
    "        int: Number of fruits in stock (0 if fruit not found)\n",
    "    \"\"\"\n",
    "    # Check for specific fruits and return their stock quantities\n",
    "    if fruit == \"banana\":\n",
    "        return 6\n",
    "    elif fruit == \"apple\":\n",
    "        return 20\n",
    "    elif fruit == \"orange\":\n",
    "        return 32\n",
    "    elif fruit == \"pear\":\n",
    "        return 15\n",
    "    elif fruit == \"durian\":\n",
    "        return 10\n",
    "    else:\n",
    "        # Return 0 for any fruit not in our inventory\n",
    "        return 0\n",
    "\n",
    "def main():\n",
    "    # Get user input and convert to lowercase to make it case-insensitive\n",
    "    fruit = input(\"What fruit do you want to buy? \").lower()\n",
    "    \n",
    "    # Check the stock quantity for the requested fruit\n",
    "    stock = num_in_stock(fruit)\n",
    "    \n",
    "    # Display appropriate message based on stock availability\n",
    "    if stock == 0:\n",
    "        print(\"Sorry, we don't have that fruit in stock.\")\n",
    "    else:\n",
    "        print(f\"We have {stock} {fruit}(s) in stock.\")\n",
    "\n",
    "# Entry point of the program\n",
    "if __name__ == \"__main__\":\n",
    "    main()"
   ]
  }
 ],
 "metadata": {
  "kernelspec": {
   "display_name": "Python 3",
   "language": "python",
   "name": "python3"
  },
  "language_info": {
   "codemirror_mode": {
    "name": "ipython",
    "version": 3
   },
   "file_extension": ".py",
   "mimetype": "text/x-python",
   "name": "python",
   "nbconvert_exporter": "python",
   "pygments_lexer": "ipython3",
   "version": "3.13.2"
  }
 },
 "nbformat": 4,
 "nbformat_minor": 2
}
