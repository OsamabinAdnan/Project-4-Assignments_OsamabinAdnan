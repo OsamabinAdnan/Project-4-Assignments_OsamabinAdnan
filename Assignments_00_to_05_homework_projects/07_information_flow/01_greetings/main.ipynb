{
 "cells": [
  {
   "cell_type": "markdown",
   "metadata": {},
   "source": [
    "**Problem Statement**\n",
    "\n",
    "We've written a helper function for you called greet(name) which takes as input a string name and prints a greeting. Write some code in main() to get the user's name and then greet them, being sure to call the greet(name) helper function.\n",
    "\n",
    "Here's a sample run of the program (user input in bold italics):\n",
    "\n",
    "What's your name? Sophia\n",
    "\n",
    "Greetings Sophia!"
   ]
  },
  {
   "cell_type": "code",
   "execution_count": 2,
   "metadata": {},
   "outputs": [
    {
     "name": "stdout",
     "output_type": "stream",
     "text": [
      "Greeting Osama!\n"
     ]
    }
   ],
   "source": [
    "def greet(name:str):\n",
    "    return \"Greeting \" + name +\"!\"\n",
    "\n",
    "def main():\n",
    "    name:str = input(\"Enter your name: \")\n",
    "    print(greet(name))\n",
    "\n",
    "if __name__ == \"__main__\":\n",
    "    main()"
   ]
  }
 ],
 "metadata": {
  "kernelspec": {
   "display_name": "Python 3",
   "language": "python",
   "name": "python3"
  },
  "language_info": {
   "codemirror_mode": {
    "name": "ipython",
    "version": 3
   },
   "file_extension": ".py",
   "mimetype": "text/x-python",
   "name": "python",
   "nbconvert_exporter": "python",
   "pygments_lexer": "ipython3",
   "version": "3.13.2"
  }
 },
 "nbformat": 4,
 "nbformat_minor": 2
}
