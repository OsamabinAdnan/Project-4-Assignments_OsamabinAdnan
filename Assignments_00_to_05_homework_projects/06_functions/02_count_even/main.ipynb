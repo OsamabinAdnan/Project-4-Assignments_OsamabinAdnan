{
 "cells": [
  {
   "cell_type": "markdown",
   "metadata": {},
   "source": [
    "**Problem Statement**\n",
    "\n",
    "Fill out the function count_even(lst) which\n",
    "\n",
    "first populates a list by prompting the user for integers until they press enter (please use the prompt \"Enter an integer or press enter to stop: \"),\n",
    "\n",
    "and then prints the number of even numbers in the list.\n",
    "\n",
    "If you'd prefer to focus on the second task only, scroll down for our implementation of the first task!"
   ]
  },
  {
   "cell_type": "code",
   "execution_count": 4,
   "metadata": {},
   "outputs": [
    {
     "name": "stdout",
     "output_type": "stream",
     "text": [
      "Count of even numbers 4\n"
     ]
    }
   ],
   "source": [
    "def count_even(lst):\n",
    "    \"\"\"\n",
    "    Returns number of even numbers in list.\n",
    "    \n",
    "    Parameters:\n",
    "    lst (list): List of integers to check for even numbers\n",
    "    \n",
    "    Returns:\n",
    "    int: Count of even numbers in the list\n",
    "    \n",
    "    Examples:\n",
    "    >>> count_even([1,2,3,4])\n",
    "    2\n",
    "    >>> count_even([1,3,5,7])\n",
    "    0\n",
    "    \"\"\"\n",
    "    # Initialize counter for even numbers\n",
    "    count = 0  \n",
    "    \n",
    "    # Iterate through each number in the input list\n",
    "    for num in lst:  \n",
    "        # Check if number is even using modulo operator\n",
    "        if num % 2 == 0:  \n",
    "            count += 1  # Increment counter when even number is found\n",
    "\n",
    "    # Alternative implementation using index-based iteration (commented out)\n",
    "    # for i in range(len(lst)):\n",
    "    #     num = lst[i]\n",
    "    #     if num % 2 == 0:\n",
    "    #         count += 1\n",
    "\n",
    "    # Display the final count of even numbers\n",
    "    print(f\"Count of even numbers {count}\")\n",
    "\n",
    "def get_list_of_ints():\n",
    "    \"\"\"\n",
    "    Reads in integers until the user presses enter and returns the resulting list.\n",
    "    \n",
    "    Returns:\n",
    "    list: List of integers entered by the user\n",
    "    \"\"\"\n",
    "    # Initialize empty list to store user input\n",
    "    lst = []  \n",
    "    \n",
    "    # Get first input from user\n",
    "    user_input = input(\"Enter an integer or press enter to stop: \")\n",
    "    \n",
    "    # Continue loop until user enters empty string\n",
    "    while user_input != \"\":  \n",
    "        # Convert input to integer and add to list\n",
    "        lst.append(int(user_input))  \n",
    "        # Get next input\n",
    "        user_input = input(\"Enter an integer or press enter to stop: \")\n",
    "\n",
    "    return lst\n",
    "\n",
    "def main():\n",
    "    \"\"\"Main function to execute the program flow\"\"\"\n",
    "    # Get list of integers from user\n",
    "    lst = get_list_of_ints()\n",
    "    # Count and display even numbers in the list\n",
    "    count_even(lst)\n",
    "\n",
    "# Entry point of the program\n",
    "if __name__ == '__main__':\n",
    "    main()"
   ]
  }
 ],
 "metadata": {
  "kernelspec": {
   "display_name": "Python 3",
   "language": "python",
   "name": "python3"
  },
  "language_info": {
   "codemirror_mode": {
    "name": "ipython",
    "version": 3
   },
   "file_extension": ".py",
   "mimetype": "text/x-python",
   "name": "python",
   "nbconvert_exporter": "python",
   "pygments_lexer": "ipython3",
   "version": "3.13.2"
  }
 },
 "nbformat": 4,
 "nbformat_minor": 2
}
