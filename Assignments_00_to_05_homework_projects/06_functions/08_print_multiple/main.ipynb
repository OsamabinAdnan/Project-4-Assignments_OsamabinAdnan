{
 "cells": [
  {
   "cell_type": "markdown",
   "metadata": {},
   "source": [
    "**Problem Statement**\n",
    "\n",
    "Fill out print_multiple(message, repeats), which takes as parameters a string message to print, and an integer repeats number of times to print message. We've written the main() function for you, which prompts the user for a message and a number of repeats.\n",
    "\n",
    "Here's a sample run of the program (user input is in blue):\n",
    "\n",
    "Please type a message: Hello! Enter a number of times to repeat your message: 6 Hello! Hello! Hello! Hello! Hello! Hello!"
   ]
  },
  {
   "cell_type": "code",
   "execution_count": 9,
   "metadata": {},
   "outputs": [
    {
     "name": "stdout",
     "output_type": "stream",
     "text": [
      "\n",
      "Message defined number of times\n",
      "\n",
      "Hello Python! Hello Python! Hello Python! Hello Python! Hello Python! \n"
     ]
    }
   ],
   "source": [
    "def print_multiple(message, times):\n",
    "    # Print header message\n",
    "    print(\"\\nMessage defined number of times\\n\")\n",
    "    \n",
    "    # Return the message repeated 'times' number of times with space separator\n",
    "    return (f\"{(message + ' ') * times}\")\n",
    "\n",
    "def main():\n",
    "    \"\"\"Main function to get user input and print repeated messages\"\"\"\n",
    "    # Get the message from user\n",
    "    message = input(\"Enter a message: \")\n",
    "    \n",
    "    # Get the number of repetitions and convert to integer\n",
    "    times = int(input(\"Enter the number of times to print the message: \"))\n",
    "    \n",
    "    # Call print_multiple function and store result\n",
    "    no_of_times = print_multiple(message, times)\n",
    "    \n",
    "    # Display the final repeated message\n",
    "    print(no_of_times)\n",
    "\n",
    "# Program entry point\n",
    "if __name__ == \"__main__\":\n",
    "    main()"
   ]
  }
 ],
 "metadata": {
  "kernelspec": {
   "display_name": "Python 3",
   "language": "python",
   "name": "python3"
  },
  "language_info": {
   "codemirror_mode": {
    "name": "ipython",
    "version": 3
   },
   "file_extension": ".py",
   "mimetype": "text/x-python",
   "name": "python",
   "nbconvert_exporter": "python",
   "pygments_lexer": "ipython3",
   "version": "3.13.2"
  }
 },
 "nbformat": 4,
 "nbformat_minor": 2
}
