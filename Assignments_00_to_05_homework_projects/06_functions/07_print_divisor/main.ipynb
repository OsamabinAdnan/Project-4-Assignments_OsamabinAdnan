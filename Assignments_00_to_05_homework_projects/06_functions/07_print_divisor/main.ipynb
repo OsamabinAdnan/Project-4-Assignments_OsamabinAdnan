{
 "cells": [
  {
   "cell_type": "markdown",
   "metadata": {},
   "source": [
    "**Problem Statement**\n",
    "\n",
    "Write the helper function print_divisors(num), which takes in a number and prints all of its divisors (all the numbers from 1 to num inclusive that num can be cleanly divided by (there is no remainder to the division). Don't forget to call your function in main()!\n",
    "\n",
    "Here's a sample run (user input is in blue):\n",
    "\n",
    "Enter a number: 12 Here are the divisors of 12 1 2 3 4 6 12"
   ]
  },
  {
   "cell_type": "code",
   "execution_count": 5,
   "metadata": {},
   "outputs": [
    {
     "name": "stdout",
     "output_type": "stream",
     "text": [
      "Divisor number of 138 are: \n",
      "1\n",
      "2\n",
      "3\n",
      "6\n",
      "23\n",
      "46\n",
      "69\n",
      "138\n"
     ]
    }
   ],
   "source": [
    "def print_divisor(n):\n",
    "    # Print header message\n",
    "    print(f\"Divisor number of {n} are: \")\n",
    "    \n",
    "    # Iterate through numbers from 1 to n\n",
    "    for i in range(n):\n",
    "        # Calculate current potential divisor\n",
    "        current_divisor = i + 1\n",
    "        # Check if current_divisor divides n without remainder\n",
    "        if n % current_divisor == 0:\n",
    "            # Print the divisor if it's valid\n",
    "            print(current_divisor)\n",
    "\n",
    "def main():\n",
    "    \"\"\"Main function to get user input and find divisors\"\"\"\n",
    "    # Get number from user and convert to integer\n",
    "    num = int(input(\"Enter a number: \"))\n",
    "    # Call function to print divisors\n",
    "    print_divisor(num)\n",
    "\n",
    "# Program entry point\n",
    "if __name__ == \"__main__\":\n",
    "    main()"
   ]
  }
 ],
 "metadata": {
  "kernelspec": {
   "display_name": "Python 3",
   "language": "python",
   "name": "python3"
  },
  "language_info": {
   "codemirror_mode": {
    "name": "ipython",
    "version": 3
   },
   "file_extension": ".py",
   "mimetype": "text/x-python",
   "name": "python",
   "nbconvert_exporter": "python",
   "pygments_lexer": "ipython3",
   "version": "3.13.2"
  }
 },
 "nbformat": 4,
 "nbformat_minor": 2
}
