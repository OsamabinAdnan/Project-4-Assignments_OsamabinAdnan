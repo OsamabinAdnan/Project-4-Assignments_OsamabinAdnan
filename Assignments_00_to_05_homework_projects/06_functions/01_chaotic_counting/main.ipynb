{
 "cells": [
  {
   "cell_type": "markdown",
   "metadata": {},
   "source": [
    "**Problem Statement**\n",
    "\n",
    "Fill out the chaotic_counting() function, which prints the numbers from 1 to 10, but with a catch. We've written a done() function which returns True with likelihood DONE_LIKELIHOOD -- at each number, before printing the number, you should call done() and check if it returns True or not. If done() returns True, we're done counting, and you should use a return statement to end the chaotic_counting() function execution and resume execution of main(), which will print \"I'm done.\". We've written main() for you -- check it out! Notice that we'll only print \"I'm done\" from main() once chaotic_counting() is done with its execution."
   ]
  },
  {
   "cell_type": "code",
   "execution_count": 39,
   "metadata": {},
   "outputs": [
    {
     "name": "stdout",
     "output_type": "stream",
     "text": [
      "I'm going to count until 10 or until I feel like stopping, whichever comes first.\n",
      "1\n",
      "2\n",
      "3\n",
      "4\n",
      "5\n",
      "6\n",
      "I'm done counting!\n"
     ]
    }
   ],
   "source": [
    "import random\n",
    "\n",
    "# Define the probability constant for early stopping\n",
    "DONE_LIKELIHOOD = 0.3  # 30% chance of stopping at each number\n",
    "\n",
    "def chaotic_counting():\n",
    "    \"\"\"Function that counts from 1 to 10 with random chance of stopping early.\"\"\"\n",
    "    for i in range(10):\n",
    "        # Calculate current number (adding 1 since range starts at 0)\n",
    "        current_number = i + 1\n",
    "        # Check if we should stop counting\n",
    "        if done():\n",
    "            return\n",
    "        # Print the current number if we haven't stopped\n",
    "        print(current_number)\n",
    "\n",
    "def done():\n",
    "    \"\"\"Returns True with a probability of DONE_LIKELIHOOD.\n",
    "    \n",
    "    Uses random.random() to generate a number between 0 and 1,\n",
    "    then compares it with DONE_LIKELIHOOD to determine if counting should stop.\n",
    "    \"\"\"\n",
    "    if random.random() < DONE_LIKELIHOOD:\n",
    "        return True\n",
    "    return False\n",
    "\n",
    "def main():\n",
    "    \"\"\"Main function that executes the chaotic counting program.\"\"\"\n",
    "    # Print introduction message\n",
    "    print(\"I'm going to count until 10 or until I feel like stopping, whichever comes first.\")\n",
    "    # Call the counting function\n",
    "    chaotic_counting()\n",
    "    # Print completion message\n",
    "    print(\"I'm done counting!\")\n",
    "\n",
    "# Execute main function only if script is run directly\n",
    "if __name__ == \"__main__\":\n",
    "    main()"
   ]
  }
 ],
 "metadata": {
  "kernelspec": {
   "display_name": "Python 3",
   "language": "python",
   "name": "python3"
  },
  "language_info": {
   "codemirror_mode": {
    "name": "ipython",
    "version": 3
   },
   "file_extension": ".py",
   "mimetype": "text/x-python",
   "name": "python",
   "nbconvert_exporter": "python",
   "pygments_lexer": "ipython3",
   "version": "3.13.2"
  }
 },
 "nbformat": 4,
 "nbformat_minor": 2
}
