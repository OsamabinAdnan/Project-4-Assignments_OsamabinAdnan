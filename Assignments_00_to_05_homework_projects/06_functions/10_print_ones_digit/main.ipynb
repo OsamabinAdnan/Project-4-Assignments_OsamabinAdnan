{
 "cells": [
  {
   "cell_type": "markdown",
   "metadata": {},
   "source": [
    "**Problem Statement**\n",
    "\n",
    "Write a function called print_ones_digit , which takes as a parameter an integer num and prints its ones digit. The modulo (remainder) operator, %, should be helpful to you here. Call your function from main()!\n",
    "\n",
    "Here's a sample run (user input is in blue):\n",
    "\n",
    "Enter a number: 42 The ones digit is 2"
   ]
  },
  {
   "cell_type": "code",
   "execution_count": 6,
   "metadata": {},
   "outputs": [
    {
     "name": "stdout",
     "output_type": "stream",
     "text": [
      "The ones digit of 123 is 3\n"
     ]
    }
   ],
   "source": [
    "def print_ones_digit(num):\n",
    "    # Print first part of message without newline\n",
    "    print(\"The ones digit of\", num, \"is\", end=\" \")\n",
    "    # Calculate and print ones digit using modulo operator\n",
    "    print(num % 10)\n",
    "\n",
    "def main():\n",
    "    \"\"\"Main function to demonstrate ones digit extraction\"\"\"\n",
    "    # Test cases with different numbers\n",
    "    user_input:int = int(input(\"Enter a number: \"))  \n",
    "    print_ones_digit(user_input)  # Will print 9\n",
    "\n",
    "# Program entry point\n",
    "if __name__ == \"__main__\":\n",
    "    main()"
   ]
  }
 ],
 "metadata": {
  "kernelspec": {
   "display_name": "Python 3",
   "language": "python",
   "name": "python3"
  },
  "language_info": {
   "codemirror_mode": {
    "name": "ipython",
    "version": 3
   },
   "file_extension": ".py",
   "mimetype": "text/x-python",
   "name": "python",
   "nbconvert_exporter": "python",
   "pygments_lexer": "ipython3",
   "version": "3.13.2"
  }
 },
 "nbformat": 4,
 "nbformat_minor": 2
}
