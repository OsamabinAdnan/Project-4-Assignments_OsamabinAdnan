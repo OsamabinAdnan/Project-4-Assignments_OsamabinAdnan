{
 "cells": [
  {
   "cell_type": "markdown",
   "metadata": {},
   "source": [
    "**Problem Statement**\n",
    "\n",
    "Write a function that takes two numbers and finds the average between the two."
   ]
  },
  {
   "cell_type": "code",
   "execution_count": 4,
   "metadata": {},
   "outputs": [
    {
     "name": "stdout",
     "output_type": "stream",
     "text": [
      "The average of 125.0 and 225.0 is 175.0\n"
     ]
    }
   ],
   "source": [
    "def main():\n",
    "    \"\"\"Function that takes two numbers and finds the average of them.\"\"\"\n",
    "    # Prompt user for input and convert string input to float\n",
    "    num1 = float(input(\"Enter the first number: \"))\n",
    "    num2 = float(input(\"Enter the second number: \"))\n",
    "    \n",
    "    # Calculate the average of the two numbers\n",
    "    average = (num1 + num2) / 2\n",
    "    \n",
    "    # Display the result with formatted string\n",
    "    print(f\"The average of {num1} and {num2} is {average}\")\n",
    "\n",
    "# Call the main function to execute the program\n",
    "main()"
   ]
  }
 ],
 "metadata": {
  "kernelspec": {
   "display_name": "Python 3",
   "language": "python",
   "name": "python3"
  },
  "language_info": {
   "codemirror_mode": {
    "name": "ipython",
    "version": 3
   },
   "file_extension": ".py",
   "mimetype": "text/x-python",
   "name": "python",
   "nbconvert_exporter": "python",
   "pygments_lexer": "ipython3",
   "version": "3.13.2"
  }
 },
 "nbformat": 4,
 "nbformat_minor": 2
}
