{
 "cells": [
  {
   "cell_type": "markdown",
   "metadata": {},
   "source": [
    "**Problem Statement**\n",
    "\n",
    "10 even 11 odd 12 even 13 odd 14 even 15 odd 16 even 17 odd 18 even 19 odd"
   ]
  },
  {
   "cell_type": "code",
   "execution_count": null,
   "metadata": {},
   "outputs": [
    {
     "name": "stdout",
     "output_type": "stream",
     "text": [
      "10 is Even\n",
      "11 is Odd\n",
      "12 is Even\n",
      "13 is Odd\n",
      "14 is Even\n",
      "15 is Odd\n",
      "16 is Even\n",
      "17 is Odd\n",
      "18 is Even\n",
      "19 is Odd\n"
     ]
    }
   ],
   "source": [
    "def check_even_odd(num:int) -> str:\n",
    "    \"\"\"\n",
    "    Check if the number is odd or even\n",
    "    \n",
    "    Parameters:\n",
    "        num (int): The integer to check\n",
    "        \n",
    "    Returns:\n",
    "        str: 'Even' if number is even, 'Odd' if number is odd\n",
    "        \n",
    "    Example:\n",
    "        >>> check_even_odd(4)\n",
    "        'Even'\n",
    "        >>> check_even_odd(3)\n",
    "        'Odd'\n",
    "    \"\"\"\n",
    "    # Check if number is divisible by 2 using modulo operator\n",
    "    if num % 2 == 0:\n",
    "        return \"Even\"  # Return 'Even' if no remainder\n",
    "    else:\n",
    "        return \"Odd\"  # Return 'Odd' if remainder is 1\n",
    "\n",
    "def main():\n",
    "    \"\"\"Main function to demonstrate even/odd checking\"\"\"\n",
    "    # Loop through numbers 10-20 (exclusive)\n",
    "    for i in range(10, 20):\n",
    "        # Print whether each number is even or odd\n",
    "        print(f\"{i} is {check_even_odd(i)}\")\n",
    "\n",
    "# Entry point of program\n",
    "if __name__ == \"__main__\":\n",
    "    main()"
   ]
  }
 ],
 "metadata": {
  "kernelspec": {
   "display_name": "Python 3",
   "language": "python",
   "name": "python3"
  },
  "language_info": {
   "codemirror_mode": {
    "name": "ipython",
    "version": 3
   },
   "file_extension": ".py",
   "mimetype": "text/x-python",
   "name": "python",
   "nbconvert_exporter": "python",
   "pygments_lexer": "ipython3",
   "version": "3.13.2"
  }
 },
 "nbformat": 4,
 "nbformat_minor": 2
}
