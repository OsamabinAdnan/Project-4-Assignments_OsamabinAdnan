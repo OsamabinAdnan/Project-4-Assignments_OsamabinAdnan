{
 "cells": [
  {
   "cell_type": "markdown",
   "metadata": {},
   "source": [
    "**Problem Statement**\n",
    "\n",
    "Simulate rolling two dice, three times. Prints the results of each die roll. This program is used to show how variable scope works."
   ]
  },
  {
   "cell_type": "code",
   "execution_count": 7,
   "metadata": {},
   "outputs": [
    {
     "name": "stdout",
     "output_type": "stream",
     "text": [
      "Rolling the dice...\n",
      "Dice rolls : Dice 1 = 2, Dice 2 = 4\n",
      "\n",
      "Rolling the dice...\n",
      "Dice rolls : Dice 1 = 3, Dice 2 = 6\n",
      "\n",
      "Rolling the dice...\n",
      "Dice rolls : Dice 1 = 1, Dice 2 = 5\n",
      "\n"
     ]
    }
   ],
   "source": [
    "import random\n",
    "\n",
    "num_rolls = 3\n",
    "def roll_dice():\n",
    "    \"\"\"Function rolling two dice, three times. Prints the results of each die roll\"\"\"\n",
    "    dice1 = random.randint(1, 6)\n",
    "    dice2 = random.randint(1, 6)\n",
    "\n",
    "    print(\"Rolling the dice...\")\n",
    "    print(f\"Dice rolls : Dice 1 = {dice1}, Dice 2 = {dice2}\\n\")\n",
    "\n",
    "for _ in range(num_rolls):\n",
    "    roll_dice()\n"
   ]
  }
 ],
 "metadata": {
  "kernelspec": {
   "display_name": "Python 3",
   "language": "python",
   "name": "python3"
  },
  "language_info": {
   "codemirror_mode": {
    "name": "ipython",
    "version": 3
   },
   "file_extension": ".py",
   "mimetype": "text/x-python",
   "name": "python",
   "nbconvert_exporter": "python",
   "pygments_lexer": "ipython3",
   "version": "3.13.2"
  }
 },
 "nbformat": 4,
 "nbformat_minor": 2
}
