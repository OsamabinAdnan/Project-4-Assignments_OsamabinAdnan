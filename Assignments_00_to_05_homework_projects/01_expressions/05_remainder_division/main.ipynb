{
 "cells": [
  {
   "cell_type": "markdown",
   "metadata": {},
   "source": [
    "**Problem Statement**\n",
    "\n",
    "Ask the user for two numbers, one at a time, and then print the result of dividing the first number by the second and also the remainder of the division.\n",
    "\n",
    "Here's a sample run of the program (user input is in bold italics):\n",
    "\n",
    "Please enter an integer to be divided: 5\n",
    "\n",
    "Please enter an integer to divide by: 3\n",
    "\n",
    "The result of this division is 1 with a remainder of 2"
   ]
  },
  {
   "cell_type": "code",
   "execution_count": 3,
   "metadata": {},
   "outputs": [
    {
     "name": "stdout",
     "output_type": "stream",
     "text": [
      "The result of the division of 45 and 7 is 6 and the remainder is 3\n"
     ]
    }
   ],
   "source": [
    "def reminder_division():\n",
    "    \"\"\"\n",
    "    The function returns the quotient and remainder of the division of two numbers.\n",
    "    Prompts user for two numbers and performs integer division operations.\n",
    "    \"\"\"\n",
    "\n",
    "    # Get the first number from user input and convert to integer\n",
    "    first_number: int = int(input(\"Enter the first number: \"))\n",
    "    \n",
    "    # Get the second number from user input and convert to integer \n",
    "    second_number: int = int(input(\"Enter the second number: \"))\n",
    "\n",
    "    # Calculate quotient using integer division operator //\n",
    "    quotient:int = first_number // second_number\n",
    "    \n",
    "    # Calculate remainder using modulo operator %\n",
    "    reminder:int = first_number % second_number\n",
    "\n",
    "    # Print the results using f-string formatting\n",
    "    print(f\"The result of the division of {first_number} and {second_number} is {quotient} and the remainder is {reminder}\")\n",
    "\n",
    "# Check if this file is being run directly (not imported as a module)\n",
    "if __name__ == \"__main__\":\n",
    "    reminder_division()"
   ]
  }
 ],
 "metadata": {
  "kernelspec": {
   "display_name": "Python 3",
   "language": "python",
   "name": "python3"
  },
  "language_info": {
   "codemirror_mode": {
    "name": "ipython",
    "version": 3
   },
   "file_extension": ".py",
   "mimetype": "text/x-python",
   "name": "python",
   "nbconvert_exporter": "python",
   "pygments_lexer": "ipython3",
   "version": "3.13.2"
  }
 },
 "nbformat": 4,
 "nbformat_minor": 2
}
