{
 "cells": [
  {
   "cell_type": "markdown",
   "metadata": {},
   "source": [
    "**Problem Statement**\n",
    "\n",
    "Write a program that continually reads in mass from the user and then outputs the equivalent energy using Einstein's mass-energy equivalence formula (E stands for energy, m stands for mass, and C is the speed of light):\n",
    "\n",
    "E = m * c**2\n",
    "\n",
    "Almost 100 years ago, Albert Einstein famously discovered that mass and energy are interchangeable and are related by the above equation. You should ask the user for mass (m) in kilograms and use a constant value for the speed of light -- C = 299792458 m/s.\n",
    "\n",
    "Here's a sample run of the program (user input is in bold italics):\n",
    "\n",
    "Enter kilos of mass: 100\n",
    "\n",
    "e = m * C^2...\n",
    "\n",
    "m = 100.0 kg\n",
    "\n",
    "C = 299792458 m/s\n",
    "\n",
    "8.987551787368176e+18 joules of energy!"
   ]
  },
  {
   "cell_type": "code",
   "execution_count": 3,
   "metadata": {},
   "outputs": [
    {
     "name": "stdout",
     "output_type": "stream",
     "text": [
      "Mass (m): 100.0 Kg\n",
      "Speed of Light (c): 299792458 m/s\n",
      "Energy (E) = mass * (speed of light)^2\n",
      "Energy (E) = 8.987551787368176e+18 Joules\n"
     ]
    }
   ],
   "source": [
    "# E = mc^2\n",
    "\n",
    "def main():\n",
    "    mass: float = float(input(\"Enter mass in Kilograms: \"))\n",
    "    speed_of_light: int = 299792458\n",
    "\n",
    "    energy_in_joules = mass * (speed_of_light ** 2)\n",
    "\n",
    "    print(f\"Mass (m): {mass} Kg\")\n",
    "    print(f\"Speed of Light (c): {speed_of_light} m/s\")\n",
    "    print(\"Energy (E) = mass * (speed of light)^2\")\n",
    "    print(f\"Energy (E) = {energy_in_joules} Joules\")\n",
    "\n",
    "if __name__ == \"__main__\":\n",
    "    main()\n"
   ]
  }
 ],
 "metadata": {
  "kernelspec": {
   "display_name": "Python 3",
   "language": "python",
   "name": "python3"
  },
  "language_info": {
   "codemirror_mode": {
    "name": "ipython",
    "version": 3
   },
   "file_extension": ".py",
   "mimetype": "text/x-python",
   "name": "python",
   "nbconvert_exporter": "python",
   "pygments_lexer": "ipython3",
   "version": "3.13.2"
  }
 },
 "nbformat": 4,
 "nbformat_minor": 2
}
