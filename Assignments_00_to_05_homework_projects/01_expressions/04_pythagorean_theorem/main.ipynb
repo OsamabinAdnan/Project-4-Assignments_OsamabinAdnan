{
 "cells": [
  {
   "cell_type": "markdown",
   "metadata": {},
   "source": [
    "**Problem Statement**\n",
    "\n",
    "Write a program that asks the user for the lengths of the two perpendicular sides of a right triangle and outputs the length of the third side (the hypotenuse) using the Pythagorean theorem!\n",
    "\n",
    "The Pythagorean theorem, named after the ancient Greek thinker, Pythagoras, is a fundamental relation in geometry. It states that in a right triangle, the square of the hypotenuse is equal to the sum of the square of the other two sides.\n",
    "\n",
    "For instance, let's consider a right triangle ABC, with the right angle located at C. According to the Pythagorean theorem:\n",
    "\n",
    "BC ** 2 = AB ** 2 + AC ** 2\n",
    "\n",
    "Your code should read in the lengths of the sides AB and AC, and that outputs the length of the hypotenuse (BC). You will probably find math.sqrt() to be useful.\n",
    "\n",
    "Here's a sample run of the program (user input is in bold italics):\n",
    "\n",
    "Enter the length of AB: 3\n",
    "\n",
    "Enter the length of AC: 4\n",
    "\n",
    "The length of BC (the hypotenuse) is: 5.0"
   ]
  },
  {
   "cell_type": "code",
   "execution_count": 4,
   "metadata": {},
   "outputs": [
    {
     "name": "stdout",
     "output_type": "stream",
     "text": [
      "Respect to perpendicular = 3.0 and base = 4.0, the length of hypotenuse is = 5.00\n"
     ]
    }
   ],
   "source": [
    "import math\n",
    "\n",
    "# Formula to calculate the hypotenuse\n",
    "# c^2 = a^2 + b^2\n",
    "\n",
    "perpendicular : float = float(input(\"Enter the length of the perpendicular side: \"))\n",
    "base : float = float(input(\"Enter the length of the base side: \"))\n",
    "\n",
    "def pythagoras_theorem():\n",
    "    \"\"\" \n",
    "    Program that asks the user for the lengths of the two perpendicular sides of a right triangle and outputs the length of the third side (the hypotenuse) using the Pythagorean theorem\n",
    "    \"\"\"\n",
    "    hypothesis = math.sqrt(perpendicular**2 + base**2)\n",
    "\n",
    "    print(f\"Respect to perpendicular = {perpendicular} and base = {base}, the length of hypotenuse is = {hypothesis:.2f}\")\n",
    "\n",
    "pythagoras_theorem()\n"
   ]
  }
 ],
 "metadata": {
  "kernelspec": {
   "display_name": "Python 3",
   "language": "python",
   "name": "python3"
  },
  "language_info": {
   "codemirror_mode": {
    "name": "ipython",
    "version": 3
   },
   "file_extension": ".py",
   "mimetype": "text/x-python",
   "name": "python",
   "nbconvert_exporter": "python",
   "pygments_lexer": "ipython3",
   "version": "3.13.2"
  }
 },
 "nbformat": 4,
 "nbformat_minor": 2
}
