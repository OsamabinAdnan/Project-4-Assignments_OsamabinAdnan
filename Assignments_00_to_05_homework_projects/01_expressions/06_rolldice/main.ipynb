{
 "cells": [
  {
   "cell_type": "markdown",
   "metadata": {},
   "source": [
    "**Problem Statement**\n",
    "\n",
    "Simulate rolling two dice, and prints results of each roll as well as the total."
   ]
  },
  {
   "cell_type": "code",
   "execution_count": 54,
   "metadata": {},
   "outputs": [
    {
     "name": "stdout",
     "output_type": "stream",
     "text": [
      "Dice have 6 sides\n",
      "First Dice: 6\n",
      "Second Dice: 6\n",
      "Total of two dices: 12\n"
     ]
    }
   ],
   "source": [
    "import random\n",
    "\n",
    "Num_sides : int = 6\n",
    "\n",
    "def roll_dice():\n",
    "    \"\"\"\n",
    "    Simulate rolling two dice, and prints results of each roll as well as the total.\n",
    "    \"\"\"\n",
    "    # Roll dice\n",
    "    die1 = random.randint(1, Num_sides)\n",
    "    die2 = random.randint(1, Num_sides)\n",
    "\n",
    "    # Get their total\n",
    "    total = die1 + die2\n",
    "\n",
    "    # Print results\n",
    "\n",
    "    print(f\"Dice have {Num_sides} sides\")\n",
    "    print(f\"First Dice: {die1}\")\n",
    "    print(f\"Second Dice: {die2}\")\n",
    "    print(f\"Total of two dices: {total}\")\n",
    "\n",
    "# Call the main function\n",
    "if __name__ == \"__main__\":\n",
    "    roll_dice()\n"
   ]
  }
 ],
 "metadata": {
  "kernelspec": {
   "display_name": "Python 3",
   "language": "python",
   "name": "python3"
  },
  "language_info": {
   "codemirror_mode": {
    "name": "ipython",
    "version": 3
   },
   "file_extension": ".py",
   "mimetype": "text/x-python",
   "name": "python",
   "nbconvert_exporter": "python",
   "pygments_lexer": "ipython3",
   "version": "3.13.2"
  }
 },
 "nbformat": 4,
 "nbformat_minor": 2
}
