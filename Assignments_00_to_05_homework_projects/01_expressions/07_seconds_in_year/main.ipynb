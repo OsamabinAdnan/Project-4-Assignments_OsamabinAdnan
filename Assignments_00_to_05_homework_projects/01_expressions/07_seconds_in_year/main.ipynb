{
 "cells": [
  {
   "cell_type": "markdown",
   "metadata": {},
   "source": [
    "**Problem Statement**\n",
    "\n",
    "Use Python to calculate the number of seconds in a year, and tell the user what the result is in a nice print statement that looks like this (of course the value 5 should be the calculated number instead):\n",
    "\n",
    "There are 5 seconds in a year!\n",
    "\n",
    "You should use constants for this exercise -- there are 365 days in a year, 24 hours in a day, 60 minutes in an hour, and 60 seconds per minute."
   ]
  },
  {
   "cell_type": "code",
   "execution_count": 1,
   "metadata": {},
   "outputs": [
    {
     "name": "stdout",
     "output_type": "stream",
     "text": [
      "There are 31536000 seconds in a year.\n"
     ]
    }
   ],
   "source": [
    "days_per_year: int = 365\n",
    "hours_per_day: int = 24\n",
    "minutes_per_hour: int = 60\n",
    "seconds_per_minute: int = 60\n",
    "\n",
    "def seconds_in_year():\n",
    "    \"\"\"Function to calculate the number of seconds in a year\"\"\"\n",
    "    no_of_seconds = seconds_per_minute * minutes_per_hour * hours_per_day * days_per_year\n",
    "\n",
    "    print(f\"There are {no_of_seconds} seconds in a year.\")\n",
    "\n",
    "if __name__ == \"__main__\":\n",
    "    seconds_in_year()"
   ]
  }
 ],
 "metadata": {
  "kernelspec": {
   "display_name": "Python 3",
   "language": "python",
   "name": "python3"
  },
  "language_info": {
   "codemirror_mode": {
    "name": "ipython",
    "version": 3
   },
   "file_extension": ".py",
   "mimetype": "text/x-python",
   "name": "python",
   "nbconvert_exporter": "python",
   "pygments_lexer": "ipython3",
   "version": "3.13.2"
  }
 },
 "nbformat": 4,
 "nbformat_minor": 2
}
