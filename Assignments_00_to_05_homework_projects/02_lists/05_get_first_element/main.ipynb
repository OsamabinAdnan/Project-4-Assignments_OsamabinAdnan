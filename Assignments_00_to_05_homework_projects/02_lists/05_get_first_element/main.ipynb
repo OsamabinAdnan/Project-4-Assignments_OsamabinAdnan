{
 "cells": [
  {
   "cell_type": "markdown",
   "metadata": {},
   "source": [
    "**Problem Statement**\n",
    "\n",
    "Fill out the function get_first_element(lst) which takes in a list lst as a parameter and prints the first element in the list. The list is guaranteed to be non-empty. "
   ]
  },
  {
   "cell_type": "code",
   "execution_count": null,
   "metadata": {},
   "outputs": [
    {
     "name": "stdout",
     "output_type": "stream",
     "text": [
      "hello\n"
     ]
    }
   ],
   "source": [
    "def get_first_element(lst):\n",
    "    \"\"\"Return the first element of a list.\"\"\"\n",
    "    # Access and print the first element (index 0) of the list\n",
    "    print(lst[0])\n",
    "\n",
    "def get_lst():\n",
    "    \"\"\"Prompt to user to enter a list at a time and return the resulting list\"\"\"\n",
    "    # Initialize an empty list to store user input\n",
    "    lst = []\n",
    "    \n",
    "    # Get first element from user\n",
    "    element:str = input(\"Enter an element of the list: \")\n",
    "    \n",
    "    # Continue asking for elements until user hits enter without input\n",
    "    while element != \"\":\n",
    "        # Add the entered element to the list\n",
    "        lst.append(element)\n",
    "        # Get next element from user\n",
    "        element = input(\"Enter an element of the list: \")\n",
    "    \n",
    "    # Return the completed list\n",
    "    return lst\n",
    "\n",
    "def main():\n",
    "    # Get list from user input\n",
    "    lst = get_lst()\n",
    "    # Print first element of the list\n",
    "    get_first_element(lst)\n",
    "\n",
    "# Check if running as main program\n",
    "if __name__ == \"__main__\":\n",
    "    main()"
   ]
  }
 ],
 "metadata": {
  "kernelspec": {
   "display_name": "Python 3",
   "language": "python",
   "name": "python3"
  },
  "language_info": {
   "codemirror_mode": {
    "name": "ipython",
    "version": 3
   },
   "file_extension": ".py",
   "mimetype": "text/x-python",
   "name": "python",
   "nbconvert_exporter": "python",
   "pygments_lexer": "ipython3",
   "version": "3.13.2"
  }
 },
 "nbformat": 4,
 "nbformat_minor": 2
}
