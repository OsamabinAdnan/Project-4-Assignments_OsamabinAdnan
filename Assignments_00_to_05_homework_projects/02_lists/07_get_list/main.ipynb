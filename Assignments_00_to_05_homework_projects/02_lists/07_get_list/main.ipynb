{
 "cells": [
  {
   "cell_type": "markdown",
   "metadata": {},
   "source": [
    "**Problem Statement**\n",
    "\n",
    "Write a program which continuously asks the user to enter values which are added one by one into a list. When the user presses enter without typing anything, print the list."
   ]
  },
  {
   "cell_type": "code",
   "execution_count": null,
   "metadata": {},
   "outputs": [
    {
     "name": "stdout",
     "output_type": "stream",
     "text": [
      "my_list:  ['hello', 'world', 'hello', 'python']\n"
     ]
    }
   ],
   "source": [
    "def main():\n",
    "    # Initialize empty list to store user input\n",
    "    my_list = []\n",
    "    \n",
    "    # Get initial input from user\n",
    "    user_input = input(\"Enter any value you want to enter in list:\")\n",
    "\n",
    "    # Continue loop until user enters empty string\n",
    "    while user_input != \"\":\n",
    "        # Append current input to the list\n",
    "        my_list.append(user_input)\n",
    "        # Get next input from user\n",
    "        user_input = input(\"Enter any value you want to enter in list:\")\n",
    "    \n",
    "    # Print the final list after user finishes entering values\n",
    "    print(\"my_list: \", my_list)\n",
    "\n",
    "# Check if running as main program\n",
    "if __name__ == \"__main__\":\n",
    "    main()"
   ]
  }
 ],
 "metadata": {
  "kernelspec": {
   "display_name": "Python 3",
   "language": "python",
   "name": "python3"
  },
  "language_info": {
   "codemirror_mode": {
    "name": "ipython",
    "version": 3
   },
   "file_extension": ".py",
   "mimetype": "text/x-python",
   "name": "python",
   "nbconvert_exporter": "python",
   "pygments_lexer": "ipython3",
   "version": "3.13.2"
  }
 },
 "nbformat": 4,
 "nbformat_minor": 2
}
