{
 "cells": [
  {
   "cell_type": "markdown",
   "metadata": {},
   "source": [
    "**Problem Statement**\n",
    "\n",
    "Fill out the function get_last_element(lst) which takes in a list lst as a parameter and prints the last element in the list. The list is guaranteed to be non-empty, but there are no guarantees on its length."
   ]
  },
  {
   "cell_type": "code",
   "execution_count": null,
   "metadata": {},
   "outputs": [
    {
     "name": "stdout",
     "output_type": "stream",
     "text": [
      "osama\n"
     ]
    }
   ],
   "source": [
    "def get_last_element(list):\n",
    "    \"\"\"\n",
    "    Returns the last element of a list\n",
    "    \"\"\"\n",
    "    # Print the last element using negative indexing (-1)\n",
    "    print(list[-1])\n",
    "\n",
    "def get_list():\n",
    "    \"\"\"Prompt to user to enter a list at a time and return the resulting list\"\"\"\n",
    "    # Initialize empty list to store elements\n",
    "    list = []\n",
    "    \n",
    "    # Get first input from user\n",
    "    element:str = input(\"Enter an element of the list: \")\n",
    "    \n",
    "    # Continue loop until user enters empty string\n",
    "    while element != \"\":\n",
    "        # Add current element to list\n",
    "        list.append(element)\n",
    "        # Get next element from user\n",
    "        element = input(\"Enter an element of the list: \")\n",
    "    \n",
    "    # Return completed list\n",
    "    return list\n",
    "\n",
    "def main():\n",
    "    # Get list from user input\n",
    "    list = get_list()\n",
    "    # Print last element of the list\n",
    "    get_last_element(list)\n",
    "\n",
    "# Check if running as main program\n",
    "if __name__ == \"__main__\":\n",
    "    main()"
   ]
  }
 ],
 "metadata": {
  "kernelspec": {
   "display_name": "Python 3",
   "language": "python",
   "name": "python3"
  },
  "language_info": {
   "codemirror_mode": {
    "name": "ipython",
    "version": 3
   },
   "file_extension": ".py",
   "mimetype": "text/x-python",
   "name": "python",
   "nbconvert_exporter": "python",
   "pygments_lexer": "ipython3",
   "version": "3.13.2"
  }
 },
 "nbformat": 4,
 "nbformat_minor": 2
}
