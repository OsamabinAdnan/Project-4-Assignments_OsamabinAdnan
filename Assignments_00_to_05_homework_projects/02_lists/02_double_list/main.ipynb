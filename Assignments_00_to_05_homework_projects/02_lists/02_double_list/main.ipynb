{
 "cells": [
  {
   "cell_type": "markdown",
   "metadata": {},
   "source": [
    "**Problem Statement**\n",
    "\n",
    "Write a program that doubles each element in a list of numbers. For example, if you start with this list:\n",
    "\n",
    "numbers = [1, 2, 3, 4]\n",
    "\n",
    "You should end with this list:\n",
    "\n",
    "numbers = [2, 4, 6, 8]"
   ]
  },
  {
   "cell_type": "code",
   "execution_count": 6,
   "metadata": {},
   "outputs": [
    {
     "name": "stdout",
     "output_type": "stream",
     "text": [
      "Function which doubles each element in a list\n",
      "[2, 4, 6, 8, 10]\n"
     ]
    }
   ],
   "source": [
    "def main():\n",
    "    \"\"\" Function which doubles each element in a list \"\"\"\n",
    "    # Get input from user as space-separated numbers and convert to list of integers\n",
    "    user_input:list[int] = list(map(int, input(\"Enter a list of numbers separated by space:\"). split(\" \")))\n",
    "    \n",
    "    # Get the length of input list to use in the loop\n",
    "    length_of_number = len(user_input)\n",
    "    \n",
    "    # Print description of what the program does\n",
    "    print(\"Function which doubles each element in a list\")\n",
    "    \n",
    "    # Iterate through the list using index\n",
    "    for i in range(length_of_number):\n",
    "        # Store current element at index i\n",
    "        el_in_index = user_input[i]\n",
    "        # Multiply the element by 2 and store back in same position\n",
    "        user_input[i] = el_in_index * 2\n",
    "    \n",
    "    # Print the modified list with doubled values\n",
    "    print(user_input)\n",
    "\n",
    "# Check if this file is run directly (not imported as module)\n",
    "if __name__ == \"__main__\":\n",
    "    main()"
   ]
  }
 ],
 "metadata": {
  "kernelspec": {
   "display_name": "Python 3",
   "language": "python",
   "name": "python3"
  },
  "language_info": {
   "codemirror_mode": {
    "name": "ipython",
    "version": 3
   },
   "file_extension": ".py",
   "mimetype": "text/x-python",
   "name": "python",
   "nbconvert_exporter": "python",
   "pygments_lexer": "ipython3",
   "version": "3.13.2"
  }
 },
 "nbformat": 4,
 "nbformat_minor": 2
}
