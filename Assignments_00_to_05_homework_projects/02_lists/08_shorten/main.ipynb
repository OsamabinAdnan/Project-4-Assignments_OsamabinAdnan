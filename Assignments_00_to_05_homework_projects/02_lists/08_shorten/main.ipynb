{
 "cells": [
  {
   "cell_type": "markdown",
   "metadata": {},
   "source": [
    "**Problem Statement**\n",
    "\n",
    "Fill out the function shorten(lst) which removes elements from the end of lst, which is a list, and prints each item it removes until lst is MAX_LENGTH items long. If lst is already shorter than MAX_LENGTH you should leave it unchanged. "
   ]
  },
  {
   "cell_type": "code",
   "execution_count": 4,
   "metadata": {},
   "outputs": [
    {
     "name": "stdout",
     "output_type": "stream",
     "text": [
      "python\n"
     ]
    }
   ],
   "source": [
    "Max_length = 3\n",
    "\n",
    "def shorten(list):\n",
    "    while len(list) > Max_length:\n",
    "        last_element = list.pop()\n",
    "        print(last_element)\n",
    "\n",
    "def get_list():\n",
    "    \"\"\"\n",
    "    Prompts the user to enter one element of the list at a time and returns the resulting list.\n",
    "    \"\"\"\n",
    "    list =[]\n",
    "    element = input(\"Enter an element of the list or press enter to stop: \")\n",
    "    while element != \"\":\n",
    "        list.append(element)\n",
    "        element = input(\"Enter an element of the list or press enter to stop: \")\n",
    "    return list\n",
    "\n",
    "def main():\n",
    "    \"\"\"\n",
    "    Main function which prompts the user to enter a list and then shortens it.\n",
    "    \"\"\"\n",
    "    list = get_list()\n",
    "    shorten(list)\n",
    "\n",
    "if __name__ == \"__main__\":\n",
    "    main()"
   ]
  }
 ],
 "metadata": {
  "kernelspec": {
   "display_name": "Python 3",
   "language": "python",
   "name": "python3"
  },
  "language_info": {
   "codemirror_mode": {
    "name": "ipython",
    "version": 3
   },
   "file_extension": ".py",
   "mimetype": "text/x-python",
   "name": "python",
   "nbconvert_exporter": "python",
   "pygments_lexer": "ipython3",
   "version": "3.13.2"
  }
 },
 "nbformat": 4,
 "nbformat_minor": 2
}
