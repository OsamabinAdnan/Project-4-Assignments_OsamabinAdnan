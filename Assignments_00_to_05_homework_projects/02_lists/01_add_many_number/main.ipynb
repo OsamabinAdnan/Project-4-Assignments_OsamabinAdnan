{
 "cells": [
  {
   "cell_type": "markdown",
   "metadata": {},
   "source": [
    "**Problem Statement**\n",
    "\n",
    "Write a function that takes a list of numbers and returns the sum of those numbers."
   ]
  },
  {
   "cell_type": "code",
   "execution_count": 6,
   "metadata": {},
   "outputs": [
    {
     "name": "stdout",
     "output_type": "stream",
     "text": [
      "The sums of all the numbers in the list [1, 2, 3, 4, 5, 6, 7, 8, 9, 10] is: 55\n"
     ]
    }
   ],
   "source": [
    "def sum_of_numbers(numbers)->int:\n",
    "    \"\"\"\n",
    "    This function takes a list of numbers as input and returns the sum of all the numbers in the list.\n",
    "    \"\"\"\n",
    "    # Initialize total variable to store sum\n",
    "    total = 0\n",
    "    # Iterate through each number in the input list\n",
    "    for num in numbers:\n",
    "        # Add current number to running total\n",
    "        total += num\n",
    "    # Return final sum\n",
    "    return total\n",
    "\n",
    "def main():\n",
    "    # Get input from user as space-separated numbers and convert to list of integers\n",
    "    numbers = list(map(int, input(\"Enter a list of numbers separated by space:\").split()))\n",
    "    # Call sum_of_numbers function with user input\n",
    "    total_of_numbers = sum_of_numbers(numbers)\n",
    "    # Print the result showing both input list and final sum\n",
    "    print(f\"The sums of all the numbers in the list {numbers} is: {total_of_numbers}\")\n",
    "\n",
    "# Check if this file is run directly (not imported as module)\n",
    "if __name__ == \"__main__\":\n",
    "    main()"
   ]
  }
 ],
 "metadata": {
  "kernelspec": {
   "display_name": "Python 3",
   "language": "python",
   "name": "python3"
  },
  "language_info": {
   "codemirror_mode": {
    "name": "ipython",
    "version": 3
   },
   "file_extension": ".py",
   "mimetype": "text/x-python",
   "name": "python",
   "nbconvert_exporter": "python",
   "pygments_lexer": "ipython3",
   "version": "3.13.2"
  }
 },
 "nbformat": 4,
 "nbformat_minor": 2
}
