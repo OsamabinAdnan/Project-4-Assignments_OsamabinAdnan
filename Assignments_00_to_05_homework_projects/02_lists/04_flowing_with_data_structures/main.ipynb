{
 "cells": [
  {
   "cell_type": "markdown",
   "metadata": {},
   "source": [
    "**Problem Statement**\n",
    "\n",
    " Some examples of mutable data types are lists and dictionaries. This means that you should be mindful when modifying lists and dictionaries within helper functions since their changes stay whether or not you return them.\n",
    "\n",
    "To see this in action, fill out the add_three_copies(...) function which takes a list and some data and then adds three copies of the data to the list. Don't return anything and see what happens! Compare this process to the x = change(x) example and note the differences.\n",
    "\n",
    "Here is an example run of this program (user input in bold italics):\n",
    "\n",
    "Enter a message to copy: Hello world!\n",
    "\n",
    "List before: []\n",
    "\n",
    "List after: ['Hello world!', 'Hello world!', 'Hello world!']\n",
    "\n",
    "(Note. The concept of immutable/mutable data types is called mutability. Be careful because different programming languages have different rules regarding mutability!)"
   ]
  },
  {
   "cell_type": "code",
   "execution_count": 3,
   "metadata": {},
   "outputs": [
    {
     "name": "stdout",
     "output_type": "stream",
     "text": [
      "List before adding copies: []\n",
      "List after adding copies: ['Hello World!', 'Hello World!', 'Hello World!']\n"
     ]
    }
   ],
   "source": [
    "def add_three_copies(my_list, data):\n",
    "    \"\"\"\n",
    "    Adds three copies of the given data to the provided list\n",
    "    Args:\n",
    "        my_list: List to modify\n",
    "        data: Item to add three times\n",
    "    \"\"\"\n",
    "    # Loop three times to append the data\n",
    "    for i in range(3):\n",
    "        my_list.append(data)\n",
    "\n",
    "def main():\n",
    "    # Get user input message\n",
    "    message = input(\"Enter a message to copy: \")\n",
    "    \n",
    "    # Initialize empty list\n",
    "    my_list = []\n",
    "    \n",
    "    # Print list before modification\n",
    "    print(f\"List before adding copies: {my_list}\")\n",
    "    \n",
    "    # Call function to add three copies\n",
    "    add_three_copies(my_list, message)\n",
    "    \n",
    "    # Print list after modification\n",
    "    print(f\"List after adding copies: {my_list}\")\n",
    "\n",
    "# Check if running as main program\n",
    "if __name__ == \"__main__\":\n",
    "    main()"
   ]
  }
 ],
 "metadata": {
  "kernelspec": {
   "display_name": "Python 3",
   "language": "python",
   "name": "python3"
  },
  "language_info": {
   "codemirror_mode": {
    "name": "ipython",
    "version": 3
   },
   "file_extension": ".py",
   "mimetype": "text/x-python",
   "name": "python",
   "nbconvert_exporter": "python",
   "pygments_lexer": "ipython3",
   "version": "3.13.2"
  }
 },
 "nbformat": 4,
 "nbformat_minor": 2
}
