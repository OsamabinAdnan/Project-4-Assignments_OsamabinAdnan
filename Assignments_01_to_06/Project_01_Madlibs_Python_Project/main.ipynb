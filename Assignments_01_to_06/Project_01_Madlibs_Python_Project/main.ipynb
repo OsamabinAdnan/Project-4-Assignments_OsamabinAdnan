{
 "cells": [
  {
   "cell_type": "markdown",
   "id": "3826be77",
   "metadata": {},
   "source": [
    "# **Mad libs Python Project**"
   ]
  },
  {
   "cell_type": "code",
   "execution_count": 8,
   "id": "de699a5b",
   "metadata": {},
   "outputs": [
    {
     "name": "stdout",
     "output_type": "stream",
     "text": [
      "\n",
      "Here's is your Madlibs story:\n",
      "\n",
      "In the world of coding, a buggy function decided to debug a program to solve a complex problem.\n",
      "However, the function ran into an issue and had to debug through lines of code.\n",
      "After hours of debuging, it finally found the bug and turned the buggy function into an efficient solution.\n",
      "Now, every developer wants to debug this buggy function in their own projects.\n"
     ]
    }
   ],
   "source": [
    "def madlibs_project():\n",
    "    noun:str = input(\"Enter a noun: \")\n",
    "    adjective:str = input(\"Enter an adjective: \")\n",
    "    verb:str = input(\"Enter a verb: \")\n",
    "\n",
    "    story = f\"In the world of coding, a {adjective} {noun} decided to {verb} a program to solve a complex problem.\\nHowever, the {noun} ran into an issue and had to {verb} through lines of code.\\nAfter hours of {verb}ing, it finally found the bug and turned the {adjective} {noun} into an efficient solution.\\nNow, every developer wants to {verb} this {adjective} {noun} in their own projects.\"\n",
    "\n",
    "    print(\"\\nHere's is your Madlibs story:\\n\")\n",
    "    print(story)\n",
    "\n",
    "madlibs_project()"
   ]
  }
 ],
 "metadata": {
  "kernelspec": {
   "display_name": "Python 3",
   "language": "python",
   "name": "python3"
  },
  "language_info": {
   "codemirror_mode": {
    "name": "ipython",
    "version": 3
   },
   "file_extension": ".py",
   "mimetype": "text/x-python",
   "name": "python",
   "nbconvert_exporter": "python",
   "pygments_lexer": "ipython3",
   "version": "3.13.2"
  }
 },
 "nbformat": 4,
 "nbformat_minor": 5
}
